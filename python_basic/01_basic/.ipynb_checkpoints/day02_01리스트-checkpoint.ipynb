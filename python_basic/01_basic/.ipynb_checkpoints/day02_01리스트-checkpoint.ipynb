{
 "cells": [
  {
   "cell_type": "code",
   "execution_count": 2,
   "id": "acc5d843-d4b4-4186-b76e-c542c7542978",
   "metadata": {},
   "outputs": [
    {
     "data": {
      "text/plain": [
       "'\\n1. 리스트   []\\n2. 튜플     ()\\n3. 딕셔너리 {}\\n4. SET     {}\\n'"
      ]
     },
     "execution_count": 2,
     "metadata": {},
     "output_type": "execute_result"
    }
   ],
   "source": [
    "# 리스트 자료형에 대해서 알아보자\n",
    "\"\"\"\n",
    "1. 리스트   []\n",
    "2. 튜플     ()\n",
    "3. 딕셔너리 {}\n",
    "4. SET     {}\n",
    "\"\"\""
   ]
  },
  {
   "cell_type": "code",
   "execution_count": 4,
   "id": "a5ccdb5e-df5c-4f4c-83c8-faac6b8a3bc8",
   "metadata": {},
   "outputs": [
    {
     "name": "stdout",
     "output_type": "stream",
     "text": [
      "3\n"
     ]
    }
   ],
   "source": [
    "a = list()\n",
    "a.append(2)\n",
    "a.append(3)\n",
    "print(a[1])"
   ]
  },
  {
   "cell_type": "code",
   "execution_count": 5,
   "id": "fec9a8ac-322b-48ba-9859-ca86bf22bad1",
   "metadata": {},
   "outputs": [],
   "source": [
    "odd = [1,3,5,7,9]"
   ]
  },
  {
   "cell_type": "code",
   "execution_count": 6,
   "id": "8370280e-b211-42db-a885-ebeaedc33419",
   "metadata": {},
   "outputs": [
    {
     "data": {
      "text/plain": [
       "[1, 3, 5, 7, 9]"
      ]
     },
     "execution_count": 6,
     "metadata": {},
     "output_type": "execute_result"
    }
   ],
   "source": [
    "odd"
   ]
  },
  {
   "cell_type": "code",
   "execution_count": 7,
   "id": "83fd07e4-edc1-4a99-906f-e13d3a3ea13d",
   "metadata": {
    "collapsed": true,
    "jupyter": {
     "outputs_hidden": true
    },
    "tags": []
   },
   "outputs": [
    {
     "data": {
      "text/plain": [
       "1"
      ]
     },
     "execution_count": 7,
     "metadata": {},
     "output_type": "execute_result"
    }
   ],
   "source": [
    "odd[0]"
   ]
  },
  {
   "cell_type": "code",
   "execution_count": 8,
   "id": "aacae6c8-7688-49ee-bf80-f99dcf4c7d5a",
   "metadata": {
    "collapsed": true,
    "jupyter": {
     "outputs_hidden": true
    },
    "tags": []
   },
   "outputs": [
    {
     "name": "stdout",
     "output_type": "stream",
     "text": [
      "1\n",
      "3\n",
      "5\n",
      "7\n",
      "9\n"
     ]
    }
   ],
   "source": [
    "for i in odd:\n",
    "    print(i)"
   ]
  },
  {
   "cell_type": "code",
   "execution_count": 9,
   "id": "f2484e30-970c-4148-b8d6-549af6dc6a28",
   "metadata": {
    "collapsed": true,
    "jupyter": {
     "outputs_hidden": true
    },
    "tags": []
   },
   "outputs": [
    {
     "name": "stdout",
     "output_type": "stream",
     "text": [
      "1\n",
      "2\n",
      "3\n",
      "4\n",
      "5\n",
      "6\n",
      "7\n",
      "8\n",
      "9\n",
      "10\n"
     ]
    }
   ],
   "source": [
    "for i in range(1,11):\n",
    "    print(i)"
   ]
  },
  {
   "cell_type": "code",
   "execution_count": 11,
   "id": "64e8116b-bd87-4d43-bbf6-4c3ae8df3e79",
   "metadata": {},
   "outputs": [
    {
     "data": {
      "text/plain": [
       "9"
      ]
     },
     "execution_count": 11,
     "metadata": {},
     "output_type": "execute_result"
    }
   ],
   "source": [
    "odd[-1]"
   ]
  },
  {
   "cell_type": "code",
   "execution_count": 12,
   "id": "deb3c0bd-6886-4551-97c4-af491ec0a3b7",
   "metadata": {},
   "outputs": [],
   "source": [
    "# 다양하게 넣어보기\n",
    "a = [1,2,3,['a','b','c']]"
   ]
  },
  {
   "cell_type": "code",
   "execution_count": 14,
   "id": "e397e06a-688b-4375-b2dc-a7d196b2286d",
   "metadata": {},
   "outputs": [
    {
     "data": {
      "text/plain": [
       "'a'"
      ]
     },
     "execution_count": 14,
     "metadata": {},
     "output_type": "execute_result"
    }
   ],
   "source": [
    "a[3][0]"
   ]
  },
  {
   "cell_type": "code",
   "execution_count": 15,
   "id": "3810f9bb-64f1-4df9-9a48-cc2794b5a246",
   "metadata": {},
   "outputs": [
    {
     "data": {
      "text/plain": [
       "[2, 3]"
      ]
     },
     "execution_count": 15,
     "metadata": {},
     "output_type": "execute_result"
    }
   ],
   "source": [
    "# 리스트는 슬라이싱도 가능하다.\n",
    "a[1:3]\n",
    "# 1번째 인덱스부터, 3번째 인덱스 앞까지"
   ]
  },
  {
   "cell_type": "code",
   "execution_count": 19,
   "id": "35e3baec-ff3f-4dfb-95ab-e4c63af98eec",
   "metadata": {},
   "outputs": [
    {
     "data": {
      "text/plain": [
       "'\\n▶▶▶▶▶▶▶▶▶▶▶▶▶▶▶▶▶▶▶▶▶▶▶▶▶▶▶▶▶▶▶▶▶▶▶▶▶▶▶▶▶▶▶▶▶▶▶\\n리스트 연산하기 \\n▶▶▶▶▶▶▶▶▶▶▶▶▶▶▶▶▶▶▶▶▶▶▶▶▶▶▶▶▶▶▶▶▶▶▶▶▶▶▶▶▶▶▶▶▶▶▶\\n'"
      ]
     },
     "execution_count": 19,
     "metadata": {},
     "output_type": "execute_result"
    }
   ],
   "source": [
    "\"\"\"\n",
    "▶▶▶▶▶▶▶▶▶▶▶▶▶▶▶▶▶▶▶▶▶▶▶▶▶▶▶▶▶▶▶▶▶▶▶▶▶▶▶▶▶▶▶▶▶▶▶\n",
    "리스트 연산하기 \n",
    "▶▶▶▶▶▶▶▶▶▶▶▶▶▶▶▶▶▶▶▶▶▶▶▶▶▶▶▶▶▶▶▶▶▶▶▶▶▶▶▶▶▶▶▶▶▶▶\n",
    "\"\"\""
   ]
  },
  {
   "cell_type": "code",
   "execution_count": 17,
   "id": "f53a9610-8da1-4dbc-9d7c-4f044d37689f",
   "metadata": {},
   "outputs": [
    {
     "data": {
      "text/plain": [
       "[1, 2, 3, 1, 2, 3, 1, 2, 3]"
      ]
     },
     "execution_count": 17,
     "metadata": {},
     "output_type": "execute_result"
    }
   ],
   "source": [
    "a = [1,2,3] \n",
    "a * 3"
   ]
  },
  {
   "cell_type": "code",
   "execution_count": 18,
   "id": "59c52b36-79c5-4b89-8557-1e232da4b900",
   "metadata": {},
   "outputs": [
    {
     "data": {
      "text/plain": [
       "3"
      ]
     },
     "execution_count": 18,
     "metadata": {},
     "output_type": "execute_result"
    }
   ],
   "source": [
    "# 리스트 길이 구하기\n",
    "len(a)"
   ]
  },
  {
   "cell_type": "code",
   "execution_count": null,
   "id": "f9989c99-85dc-4c22-b55d-aa6347a0a6f2",
   "metadata": {},
   "outputs": [],
   "source": [
    "\n",
    "\n",
    "\n"
   ]
  },
  {
   "cell_type": "code",
   "execution_count": null,
   "id": "7a25da2d-1e17-429b-8619-252c5e8a7b0d",
   "metadata": {},
   "outputs": [],
   "source": []
  },
  {
   "cell_type": "code",
   "execution_count": 46,
   "id": "2546f942-20a1-4a08-9d69-4724c53b7eb4",
   "metadata": {},
   "outputs": [],
   "source": [
    "a = [1,2,3,['a','b','c']]"
   ]
  },
  {
   "cell_type": "code",
   "execution_count": 23,
   "id": "89d425b4-3834-4653-99af-69362e58d022",
   "metadata": {},
   "outputs": [],
   "source": [
    "# 리스트 수정하기\n",
    "a[3] = 'abc'"
   ]
  },
  {
   "cell_type": "code",
   "execution_count": 24,
   "id": "2ff405c7-7bb5-456d-868a-6b4dbf54c235",
   "metadata": {},
   "outputs": [
    {
     "data": {
      "text/plain": [
       "[1, 2, 3, 'abc']"
      ]
     },
     "execution_count": 24,
     "metadata": {},
     "output_type": "execute_result"
    }
   ],
   "source": [
    "a"
   ]
  },
  {
   "cell_type": "code",
   "execution_count": null,
   "id": "db87352a-e7e1-466d-9081-e3a893491c25",
   "metadata": {},
   "outputs": [],
   "source": [
    "\n",
    "\n",
    "\n",
    "\n",
    "\n",
    "\n"
   ]
  },
  {
   "cell_type": "code",
   "execution_count": 48,
   "id": "395a6d80-c974-4552-90ab-757f78b5238f",
   "metadata": {},
   "outputs": [
    {
     "data": {
      "text/plain": [
       "[1, 3, ['a', 'b', 'c']]"
      ]
     },
     "execution_count": 48,
     "metadata": {},
     "output_type": "execute_result"
    }
   ],
   "source": [
    "# 리스트 삭제하기\n",
    "del a[1]\n",
    "a"
   ]
  },
  {
   "cell_type": "code",
   "execution_count": 27,
   "id": "59c103e6-f85a-4f76-ae8b-8969a21fdc12",
   "metadata": {},
   "outputs": [],
   "source": [
    "# 왜 갑자기 삭제는 del처럼 쓸까? \n",
    "# --> 초창기 파이썬은 괄호를 거의 안썼다. print 또한 괄호없이 썻었다. \n",
    "# 그런 관습때문에 del이 있는것이다. del은 아직 안바껴서 아직도 괄호없이 쓰고 있다."
   ]
  },
  {
   "cell_type": "code",
   "execution_count": null,
   "id": "d168d5da-f9a6-449b-b6c4-631ad55ab896",
   "metadata": {},
   "outputs": [],
   "source": [
    "\n",
    "#del a 를 해버리면 a가 그냥 바로 삭제된다. --> 바로 오류가 뜸\n",
    "\n",
    "\n",
    "\n",
    "\n",
    "\n",
    "\n",
    "\n"
   ]
  },
  {
   "cell_type": "code",
   "execution_count": 50,
   "id": "3f8bf2fa-a09f-46a0-b91f-124871788de5",
   "metadata": {},
   "outputs": [],
   "source": [
    "# 리스트에 요소 추가 (append) \n",
    "# 리스트 뒤 쪽에 요소가 붙는다."
   ]
  },
  {
   "cell_type": "code",
   "execution_count": 53,
   "id": "2abbd56e-17ba-4b05-ad78-7e2d5162f354",
   "metadata": {},
   "outputs": [
    {
     "name": "stdout",
     "output_type": "stream",
     "text": [
      "[1, 2, 3, 4]\n",
      "[1, 2, 3, 4, 5]\n"
     ]
    }
   ],
   "source": [
    "a = [1,2,3]\n",
    "a.append(4)\n",
    "print(a)\n",
    "a.append(5)\n",
    "print(a)"
   ]
  },
  {
   "cell_type": "code",
   "execution_count": 60,
   "id": "77771579-bb66-467d-b019-b4719265cba0",
   "metadata": {},
   "outputs": [
    {
     "data": {
      "text/plain": [
       "[4, 3, 2, 1]"
      ]
     },
     "execution_count": 60,
     "metadata": {},
     "output_type": "execute_result"
    }
   ],
   "source": [
    "\n",
    "# 리스트 정렬 (sort)에 대해서.\n",
    "a = [1,4,3,2]\n",
    "a.sort(reverse=True)\n",
    "a"
   ]
  },
  {
   "cell_type": "code",
   "execution_count": 63,
   "id": "306c6202-0f97-40ed-b240-38eaaf2bb37b",
   "metadata": {},
   "outputs": [
    {
     "data": {
      "text/plain": [
       "[2, 3, 4, 1]"
      ]
     },
     "execution_count": 63,
     "metadata": {},
     "output_type": "execute_result"
    }
   ],
   "source": [
    " # reverse 다른 방식 써보기\n",
    "a = [1,4,3,2]\n",
    "a.reverse()\n",
    "a"
   ]
  },
  {
   "cell_type": "code",
   "execution_count": 64,
   "id": "8a0fa102-19f2-4d3a-b966-d4122ffa754e",
   "metadata": {},
   "outputs": [],
   "source": [
    "\n",
    "## ★★★ sort(reverse=False)는 정렬을하고, reverse를 시키지만,\n",
    "# a.reverse()는 현재 있는 상태에서 reverse를 해준다."
   ]
  },
  {
   "cell_type": "code",
   "execution_count": null,
   "id": "e055c438-6129-425f-9c76-b6c7a1a1276c",
   "metadata": {},
   "outputs": [],
   "source": []
  },
  {
   "cell_type": "code",
   "execution_count": 65,
   "id": "76456247-e800-4e69-90f3-191108160834",
   "metadata": {},
   "outputs": [],
   "source": [
    "\n",
    "\n",
    "\n",
    "# 리스트 인덱스 위치반환\n",
    "\n"
   ]
  },
  {
   "cell_type": "code",
   "execution_count": 66,
   "id": "7fc4bce5-9ec8-45d6-a5bb-635ec52f92bb",
   "metadata": {},
   "outputs": [
    {
     "data": {
      "text/plain": [
       "[2, 3, 4, 1]"
      ]
     },
     "execution_count": 66,
     "metadata": {},
     "output_type": "execute_result"
    }
   ],
   "source": [
    "a"
   ]
  },
  {
   "cell_type": "code",
   "execution_count": 67,
   "id": "2d54e78f-78b7-4901-b50d-7a743cd6508f",
   "metadata": {},
   "outputs": [
    {
     "data": {
      "text/plain": [
       "3"
      ]
     },
     "execution_count": 67,
     "metadata": {},
     "output_type": "execute_result"
    }
   ],
   "source": [
    "a.index(1)\n",
    "\n",
    "# 리스트에 없는 값을 찾는다면, 오류가 난다."
   ]
  },
  {
   "cell_type": "code",
   "execution_count": 72,
   "id": "ff839821-45ea-40a1-b739-c9e8693417ce",
   "metadata": {},
   "outputs": [],
   "source": [
    "# append vs insert \n",
    "\n",
    "#append는 항상 뒤에만 요소를 추가한다."
   ]
  },
  {
   "cell_type": "code",
   "execution_count": 75,
   "id": "fcd127b9-2ed7-4161-90e2-4529c37073c1",
   "metadata": {},
   "outputs": [
    {
     "data": {
      "text/plain": [
       "[2, 1, 5, 1, 5]"
      ]
     },
     "execution_count": 75,
     "metadata": {},
     "output_type": "execute_result"
    }
   ],
   "source": [
    "a = [ 2,5,1,5 ]\n",
    "a.insert(1,1)\n",
    "a\n",
    "# 원하는곳에 삽입이 가능하다."
   ]
  },
  {
   "cell_type": "code",
   "execution_count": 76,
   "id": "721c861f-2671-486d-adcc-f43f49065597",
   "metadata": {},
   "outputs": [],
   "source": [
    "\n",
    "\n",
    "# del vs remove\n",
    "# 위에서 del은    'del a[3]' 이런식으로 썼다.\n",
    "# remove는 a.remove(3) 로 쓴다\n",
    "# --> 차이점은 무엇일까? \n",
    "\n",
    "# del은 위치값(인덱스)를 줘서 삭제했지만,\n",
    "# remove는  인덱스값을 주는게 아니라, value(값)을 준다. 그 값을 삭제해준다. 본인이 찾아서 제거.\n",
    "\n"
   ]
  },
  {
   "cell_type": "code",
   "execution_count": 95,
   "id": "57291b7b-7db2-4cf8-9955-00c4f6f81892",
   "metadata": {},
   "outputs": [
    {
     "data": {
      "text/plain": [
       "[2, 1, 1]"
      ]
     },
     "execution_count": 95,
     "metadata": {},
     "output_type": "execute_result"
    }
   ],
   "source": [
    "a = [2, 1, 5, 1, 5]\n",
    "a.remove(5)\n",
    "a.pop()   # --> pop은 제일 끝에 있는 값! 즉, 5를 반환해주고 5를 제거해준다.\n",
    "a"
   ]
  },
  {
   "cell_type": "code",
   "execution_count": 96,
   "id": "4d21a67c-20d0-4fba-a1ba-ed5c3c1efa60",
   "metadata": {},
   "outputs": [
    {
     "data": {
      "text/plain": [
       "[1, 1]"
      ]
     },
     "execution_count": 96,
     "metadata": {},
     "output_type": "execute_result"
    }
   ],
   "source": [
    "a.pop(0)  # 이처럼 pop에 인덱스 값을 넣어줄수 있다. n번째 요소 pop하기!\n",
    "a"
   ]
  },
  {
   "cell_type": "code",
   "execution_count": 99,
   "id": "c80cba15-4866-4b38-b4e5-f7a180d34014",
   "metadata": {},
   "outputs": [
    {
     "data": {
      "text/plain": [
       "2"
      ]
     },
     "execution_count": 99,
     "metadata": {},
     "output_type": "execute_result"
    }
   ],
   "source": [
    "# a.count(value) --> value를 주면 그 value가 몇개나 있는지 확인해준다. \n",
    "a.count(1)\n"
   ]
  },
  {
   "cell_type": "code",
   "execution_count": 100,
   "id": "537906e5-7fd5-4368-b0f1-39485a4331c7",
   "metadata": {},
   "outputs": [
    {
     "data": {
      "text/plain": [
       "0"
      ]
     },
     "execution_count": 100,
     "metadata": {},
     "output_type": "execute_result"
    }
   ],
   "source": [
    "a.count(2)"
   ]
  },
  {
   "cell_type": "code",
   "execution_count": 101,
   "id": "f60ffa7e-15c2-451d-acf8-e81db7ded88a",
   "metadata": {},
   "outputs": [],
   "source": [
    "\n",
    "\n",
    "\n",
    "# extend 리스트 확장\n",
    "\n",
    "\n"
   ]
  },
  {
   "cell_type": "code",
   "execution_count": 109,
   "id": "ee96be0b-e42a-402a-9c66-27e08d9d1359",
   "metadata": {},
   "outputs": [
    {
     "data": {
      "text/plain": [
       "[1, 2, 3, 4, 5]"
      ]
     },
     "execution_count": 109,
     "metadata": {},
     "output_type": "execute_result"
    }
   ],
   "source": [
    "a = [1,2,3]\n",
    "b = [4,5]\n",
    "a.extend(b)\n",
    "a\n",
    "# a+b와 동일하다.\n",
    "# 하지만 a.append(b)라는 append는 다름. --> append는 리스트 자체를 넣어준다."
   ]
  },
  {
   "cell_type": "code",
   "execution_count": 110,
   "id": "f013d8ff-8135-4f13-a30d-fb945d15e4c7",
   "metadata": {},
   "outputs": [
    {
     "data": {
      "text/plain": [
       "[1, 2, 3, 4, 5, [4, 5]]"
      ]
     },
     "execution_count": 110,
     "metadata": {},
     "output_type": "execute_result"
    }
   ],
   "source": [
    "a.append(b)\n",
    "a"
   ]
  },
  {
   "cell_type": "code",
   "execution_count": null,
   "id": "184f750c-e9bc-4f72-b994-406690766e21",
   "metadata": {},
   "outputs": [],
   "source": [
    "\n",
    "\n",
    "\n",
    "\n",
    "\n",
    "\n",
    "\n",
    "\n",
    "\n",
    "\n",
    "\n",
    "\n",
    "\n",
    "\n",
    "\n"
   ]
  },
  {
   "cell_type": "raw",
   "id": "03907fdc-b6e4-4a86-b774-f45d9ba14649",
   "metadata": {},
   "source": [
    "타자게임\n",
    "데이터 저장 : word = []\n",
    "word 리스트에서 문제를 추출해서 제출하면 맞추는 게임\n",
    "- 한번 출제된 문제는 맞출때까지 반복\n",
    "- 전체 5문제를 출제 다 맞추면 종료"
   ]
  },
  {
   "cell_type": "code",
   "execution_count": 117,
   "id": "f6c35ed8-c9e3-436b-bd74-9238e8827183",
   "metadata": {},
   "outputs": [],
   "source": [
    "import random"
   ]
  },
  {
   "cell_type": "code",
   "execution_count": 193,
   "id": "c5e4c167-1407-4d27-86a3-ce9e2069b4a6",
   "metadata": {},
   "outputs": [
    {
     "data": {
      "text/plain": [
       "'cat'"
      ]
     },
     "execution_count": 193,
     "metadata": {},
     "output_type": "execute_result"
    }
   ],
   "source": [
    "word = ['cat', 'dog', '강아지', '고양이']\n",
    "random.choice(word)"
   ]
  },
  {
   "cell_type": "code",
   "execution_count": 254,
   "id": "2eba7d8e-756f-4e92-bac3-ef61c0509709",
   "metadata": {
    "tags": []
   },
   "outputs": [
    {
     "name": "stdout",
     "output_type": "stream",
     "text": [
      "1번\n",
      "cat\n"
     ]
    },
    {
     "name": "stdin",
     "output_type": "stream",
     "text": [
      ">>> cat\n"
     ]
    },
    {
     "name": "stdout",
     "output_type": "stream",
     "text": [
      "통과!\n",
      "2번\n",
      "고양이\n"
     ]
    },
    {
     "name": "stdin",
     "output_type": "stream",
     "text": [
      ">>> 고양이\n"
     ]
    },
    {
     "name": "stdout",
     "output_type": "stream",
     "text": [
      "통과!\n",
      "3번\n",
      "고양이\n"
     ]
    },
    {
     "name": "stdin",
     "output_type": "stream",
     "text": [
      ">>> 고양이\n"
     ]
    },
    {
     "name": "stdout",
     "output_type": "stream",
     "text": [
      "통과!\n",
      "4번\n",
      "dog\n"
     ]
    },
    {
     "name": "stdin",
     "output_type": "stream",
     "text": [
      ">>> dog\n"
     ]
    },
    {
     "name": "stdout",
     "output_type": "stream",
     "text": [
      "통과!\n",
      "5번\n",
      "고양이\n"
     ]
    },
    {
     "name": "stdin",
     "output_type": "stream",
     "text": [
      ">>> 고양이\n"
     ]
    },
    {
     "name": "stdout",
     "output_type": "stream",
     "text": [
      "통과!\n",
      "5문제 완료!!\n"
     ]
    }
   ],
   "source": [
    "n = 1\n",
    "quiz = random.choice(word)\n",
    "while n <= 5:  #일단 5문제까지는 반복하도록 하기 위해서 n<=5\n",
    "    print(f'{n}번')\n",
    "    print(quiz)\n",
    "    result = input('>>>')\n",
    "    if quiz == result:\n",
    "        print('통과!')\n",
    "        n += 1\n",
    "        quiz = random.choice(word)\n",
    "    else:\n",
    "        print('오타! 다시도전 !')\n",
    "        \n",
    "print('5문제 완료!!')        \n"
   ]
  },
  {
   "cell_type": "code",
   "execution_count": 267,
   "id": "d9c522ee-8ac9-4602-a495-1a5e145aaeff",
   "metadata": {},
   "outputs": [],
   "source": [
    "# 저장\n",
    "# https://wikidocs.net/26 --> 파일 읽고 쓰기\n",
    "# f = open(\"새파일.txt\" , 'w')     // f.close()\n",
    "# 파일열기모드  r , w , a  --> 만약 텍스트파일이 아니라면, 뒤에 b가 붙는다.  rb, wb, ab\n"
   ]
  },
  {
   "cell_type": "code",
   "execution_count": 276,
   "id": "c8d2641c-2c24-4b58-8a4c-408be77cb9fd",
   "metadata": {},
   "outputs": [],
   "source": [
    "# 저장 --> 피클을 쓸 것이다. 파이썬 내에서는 모든 자료형을 다 저장할 수 있다. 다만, 파이썬에서만 사용가능\n",
    "import json,pickle"
   ]
  },
  {
   "cell_type": "code",
   "execution_count": 291,
   "id": "e5462627-a1c2-41e9-bbed-8a4fe47309e0",
   "metadata": {},
   "outputs": [],
   "source": [
    "f = open('word.json', 'w')\n",
    "json.dump(word,f)\n",
    "f.close()"
   ]
  },
  {
   "cell_type": "code",
   "execution_count": 292,
   "id": "9cb7233c-414b-4f13-9ddf-6b0476fcaa0b",
   "metadata": {},
   "outputs": [],
   "source": [
    "f = open('word.json', 'r')\n",
    "word_1 = json.load(f)\n",
    "f.close()"
   ]
  },
  {
   "cell_type": "code",
   "execution_count": 293,
   "id": "00ae1281-a92d-4960-9783-1a16252a54c7",
   "metadata": {},
   "outputs": [
    {
     "data": {
      "text/plain": [
       "['cat', 'dog', '강아지', '고양이', '노트', '머그컵']"
      ]
     },
     "execution_count": 293,
     "metadata": {},
     "output_type": "execute_result"
    }
   ],
   "source": [
    "word_1"
   ]
  },
  {
   "cell_type": "code",
   "execution_count": 296,
   "id": "6550b5f0-43e9-4b18-aaf3-c167bcd81a42",
   "metadata": {},
   "outputs": [],
   "source": [
    "f = open('word.pickle', 'wb')\n",
    "pickle.dump(word,f)\n",
    "f.close()"
   ]
  },
  {
   "cell_type": "code",
   "execution_count": 297,
   "id": "e53e6a96-a98c-4ff2-a8bc-98a16f9acf1a",
   "metadata": {},
   "outputs": [],
   "source": [
    "f = open('word.pickle', 'rb')\n",
    "word_2 = pickle.load(f)\n",
    "f.close()"
   ]
  },
  {
   "cell_type": "code",
   "execution_count": 298,
   "id": "5a8431a3-8242-445e-b127-b8ac46ded689",
   "metadata": {},
   "outputs": [
    {
     "data": {
      "text/plain": [
       "['cat', 'dog', '강아지', '고양이', '노트', '머그컵']"
      ]
     },
     "execution_count": 298,
     "metadata": {},
     "output_type": "execute_result"
    }
   ],
   "source": [
    "word_2"
   ]
  },
  {
   "cell_type": "code",
   "execution_count": 26,
   "id": "d66bb95d-6518-4fc7-a8d7-315914740274",
   "metadata": {},
   "outputs": [],
   "source": [
    "import time"
   ]
  },
  {
   "cell_type": "code",
   "execution_count": 27,
   "id": "58133d6c-d332-4e29-9d05-f8b15ed9d1d9",
   "metadata": {},
   "outputs": [
    {
     "data": {
      "text/plain": [
       "1656400633.5950425"
      ]
     },
     "execution_count": 27,
     "metadata": {},
     "output_type": "execute_result"
    }
   ],
   "source": [
    "time.time()"
   ]
  },
  {
   "cell_type": "code",
   "execution_count": 28,
   "id": "b95c91d9-a392-43f0-9af2-23ee04c45ce6",
   "metadata": {},
   "outputs": [
    {
     "data": {
      "text/plain": [
       "['aaa', 'bbb']"
      ]
     },
     "execution_count": 28,
     "metadata": {},
     "output_type": "execute_result"
    }
   ],
   "source": [
    "rank = {'aaa' : 11.123125144114, 'bbb' : 7.838910284901289412}\n",
    "sorted(rank)"
   ]
  },
  {
   "cell_type": "code",
   "execution_count": 29,
   "id": "cb033d8d-4981-4e17-afee-77340934fbba",
   "metadata": {},
   "outputs": [
    {
     "data": {
      "text/plain": [
       "dict_items([('aaa', 11.123125144114), ('bbb', 7.8389102849012895)])"
      ]
     },
     "execution_count": 29,
     "metadata": {},
     "output_type": "execute_result"
    }
   ],
   "source": [
    "rank.items()"
   ]
  },
  {
   "cell_type": "code",
   "execution_count": 45,
   "id": "ab01cd3b-8a2f-42a5-b839-a28452df5d96",
   "metadata": {},
   "outputs": [
    {
     "data": {
      "text/plain": [
       "[('bbb', 7.8389102849012895), ('aaa', 11.123125144114)]"
      ]
     },
     "execution_count": 45,
     "metadata": {},
     "output_type": "execute_result"
    }
   ],
   "source": [
    "sorted(rank.items(), key=lambda x : x[1])\n"
   ]
  },
  {
   "cell_type": "code",
   "execution_count": null,
   "id": "1af0f6a4-a170-465e-8ddd-e91f1bd8eea1",
   "metadata": {},
   "outputs": [],
   "source": []
  },
  {
   "cell_type": "code",
   "execution_count": 47,
   "id": "52d43090-3fac-41e6-9eb8-bfa96103f2b4",
   "metadata": {
    "tags": []
   },
   "outputs": [
    {
     "name": "stdin",
     "output_type": "stream",
     "text": [
      "\n",
      " -----------------------------------------------------------\n",
      " 1. 게임  2. 문제추가  3. 문제저장  4. 등수리스트  5. 종료\n",
      " -----------------------------------------------------------\n",
      " >>>  5\n"
     ]
    },
    {
     "name": "stdout",
     "output_type": "stream",
     "text": [
      "프로그램 종료!!\n"
     ]
    }
   ],
   "source": [
    "#word = ['cat', 'dog', '강아지', '고양이']\n",
    "import json\n",
    "\n",
    "f = open('word.json' , 'r')\n",
    "word_1 = json.load(f)\n",
    "f.close()\n",
    "\n",
    "menu_display = '''\n",
    " -----------------------------------------------------------\n",
    " 1. 게임  2. 문제추가  3. 문제저장  4. 등수리스트  5. 종료\n",
    " -----------------------------------------------------------\n",
    " >>> '''\n",
    "    \n",
    "while True:    \n",
    "    menu = input(menu_display)\n",
    "    if menu == '1':\n",
    "        print('게임시작!')\n",
    "        start = time.time()                                # 게임 시작할때의 시간\n",
    "        n = 1\n",
    "        quiz = random.choice(word)\n",
    "        while n <= 5:  #일단 5문제까지는 반복하도록 하기 위해서 n<=5\n",
    "            print(f'{n}번')\n",
    "            print(quiz)\n",
    "            result = input('>>>')\n",
    "            if quiz == result:\n",
    "                print('통과!')\n",
    "                n += 1\n",
    "                quiz = random.choice(word)\n",
    "            else:\n",
    "                print('오타! 다시도전 !')     \n",
    "        print('5문제 완료!!')     \n",
    "        end = time.time()                                   # 게임 끝날때의 시간\n",
    "        print(f'걸린 시간 : {end-start:.0f}초')\n",
    "        name = input('이름을 입력하세요 >>>')\n",
    "        rank[name] = end-start\n",
    "        print(rank)\n",
    "    elif menu == '2':\n",
    "        print('문제추가작업')\n",
    "        while True:\n",
    "            data = input('(종료:enter) >>>')\n",
    "            if data == '':\n",
    "                break\n",
    "            word_1.append(data)\n",
    "            print(word_1)\n",
    "           \n",
    "    elif menu == '3':\n",
    "        print('문제저장')\n",
    "    elif menu == '4' :\n",
    "         print('등수리스트')\n",
    "         for index,( k,v ) in enumerate(sorted(rank.items(), key=lambda x : x[1])):\n",
    "             print(f'{index+1}등 {k} 시간 : {v:.2f}') \n",
    "    elif menu == '5':\n",
    "        print(\"프로그램 종료!!\")\n",
    "        f = open('word.json' , 'w')\n",
    "        json.dump(word_1,f)\n",
    "        f.close()\n",
    "        break\n",
    "    else:\n",
    "        print(\"메뉴를 선택해주세요\")  \n",
    "    "
   ]
  },
  {
   "cell_type": "code",
   "execution_count": 48,
   "id": "13c668b4-8c22-4e2e-abb1-b767afcccf65",
   "metadata": {},
   "outputs": [
    {
     "data": {
      "text/plain": [
       "['cat',\n",
       " 'dog',\n",
       " '강아지',\n",
       " '고양이',\n",
       " '노트',\n",
       " '머그컵',\n",
       " 'ww',\n",
       " '??',\n",
       " 'gogo',\n",
       " '3',\n",
       " '치와와',\n",
       " '치와와2']"
      ]
     },
     "execution_count": 48,
     "metadata": {},
     "output_type": "execute_result"
    }
   ],
   "source": [
    "word_1"
   ]
  },
  {
   "cell_type": "code",
   "execution_count": 49,
   "id": "440188a6-e0a6-43e2-bce0-c3fa5d015510",
   "metadata": {},
   "outputs": [],
   "source": [
    "temporaryList1 = ['b' , 'a' , 'cc']      # \n",
    "f2 = open('word2.json', 'w')             #word2.json 이라는 파일을 생성할 것이다. (write)\n",
    "json.dump(temporaryList1, f2)\n",
    "f2.close()"
   ]
  },
  {
   "cell_type": "code",
   "execution_count": 51,
   "id": "ecb00bca-ce7d-4bbb-8666-e6ccc81a2298",
   "metadata": {},
   "outputs": [
    {
     "data": {
      "text/plain": [
       "['b', 'a', 'cc']"
      ]
     },
     "execution_count": 51,
     "metadata": {},
     "output_type": "execute_result"
    }
   ],
   "source": [
    "\n",
    "f2 = open('word2.json' , 'r')\n",
    "str2 = json.load(f2)\n",
    "f2.close()\n",
    "str2\n"
   ]
  },
  {
   "cell_type": "code",
   "execution_count": null,
   "id": "875a9748-f297-45e0-862d-f49c13756286",
   "metadata": {},
   "outputs": [],
   "source": []
  },
  {
   "cell_type": "code",
   "execution_count": null,
   "id": "bb4d556f-ddb9-4fc5-9150-6318c5f02c6e",
   "metadata": {},
   "outputs": [],
   "source": []
  },
  {
   "cell_type": "code",
   "execution_count": 36,
   "id": "a12409d4-6dbd-4665-ba4e-cf675a81c54b",
   "metadata": {},
   "outputs": [],
   "source": [
    "\n",
    "\n",
    "\n",
    "\n",
    "# 튜플..\n",
    "\n",
    "# 리스트와 다르게 수정,삭제 불가능 \n",
    "# 하지만 리스트와 동일하게 순서가 있다. (인덱스)\n",
    "\n",
    "\n",
    "\n",
    "# 딕셔너리...\n",
    "\n",
    "# 딕셔너리를 가지고 우리가 만든 타자게임의 데이터를 저장해보자.\n",
    "\n",
    "# key는 값이 없으면 -1 반환, get은 오류발생\n",
    "\n",
    "\n"
   ]
  },
  {
   "cell_type": "code",
   "execution_count": null,
   "id": "cc339749-c763-4acf-a84b-55bd9932fcc0",
   "metadata": {},
   "outputs": [],
   "source": []
  },
  {
   "cell_type": "code",
   "execution_count": null,
   "id": "76d5d1b3-5c6b-44cf-bfa3-fc46ede233f1",
   "metadata": {},
   "outputs": [],
   "source": [
    "\n",
    "\n",
    "\n",
    "\n",
    "\n"
   ]
  },
  {
   "cell_type": "raw",
   "id": "fe80872b-94e6-402f-a4bf-fc5a916b6376",
   "metadata": {},
   "source": [
    "# 커피자판기\n",
    "1. 커피자판기 2. 메뉴추가 3. 메뉴삭제 4.메뉴목록 5.종료\n",
    " - 프로그램이 시작될 때, 필요한 정보를 읽어서 시작합니다. \n",
    " - 커피자판기를 무한 반복하면서 돈을 입력받고, 메뉴를 선택해서 처리\n",
    " - 메뉴추가 자판기에서 판매하는 메뉴를 추가하는 기능 (메뉴명, 가격)\n",
    " - 메뉴삭제는 전체 목록을 보여주고, 삭제하고자하는 항목을 선택하도록 해서 삭제 처리\n",
    " - 메뉴목록은 메뉴이름순으로 정렬하거나, 메뉴가격순으로 정렬해서 보여줌\n",
    " - 종료는 저장할 정보가 있으면 저장하고 종료합니다.\n",
    "  "
   ]
  },
  {
   "cell_type": "code",
   "execution_count": 65,
   "id": "7be9779d-e8bc-4ce7-b59f-03e24041c029",
   "metadata": {},
   "outputs": [],
   "source": [
    " import json,pickle\n",
    "\n",
    " coffeeList = [ '블랙커피' , '아메리카노', '믹스커피']\n",
    " \n",
    " fileRoot2 = open('coffeeMachine.json', 'w')\n",
    " json.dump( coffeeList , fileRoot2)\n",
    " fileRoot2.close()\n"
   ]
  },
  {
   "cell_type": "code",
   "execution_count": 69,
   "id": "586b2be0-cd22-46b0-a48e-bb358b87df92",
   "metadata": {},
   "outputs": [],
   "source": [
    "fileRoot3 = open('coffeeMachine.json' ,'r')\n",
    "coffeeCopy = json.load(fileRoot3)\n",
    "fileRoot3.close()"
   ]
  },
  {
   "cell_type": "code",
   "execution_count": 74,
   "id": "1035009f-5e3f-438b-b572-e7a734f4fd53",
   "metadata": {},
   "outputs": [
    {
     "name": "stdin",
     "output_type": "stream",
     "text": [
      "\n",
      "-----------------------------------------------------\n",
      "1. 커피자판기 2.메뉴추가 3. 메뉴삭제 4. 메뉴목록 5. 종료\n",
      "-----------------------------------------------------\n",
      ">>> 2\n",
      "어떤 커피 종류를 추가 하시겠습니까?? >> \n"
     ]
    },
    {
     "name": "stdout",
     "output_type": "stream",
     "text": [
      "입력하신 가 성공적으로 추가 되었습니다! \n"
     ]
    },
    {
     "name": "stdin",
     "output_type": "stream",
     "text": [
      "\n",
      "-----------------------------------------------------\n",
      "1. 커피자판기 2.메뉴추가 3. 메뉴삭제 4. 메뉴목록 5. 종료\n",
      "-----------------------------------------------------\n",
      ">>> 4\n"
     ]
    },
    {
     "name": "stdout",
     "output_type": "stream",
     "text": [
      "['블랙커피', '아메리카노', '믹스커피', '']\n"
     ]
    },
    {
     "name": "stdin",
     "output_type": "stream",
     "text": [
      "\n",
      "-----------------------------------------------------\n",
      "1. 커피자판기 2.메뉴추가 3. 메뉴삭제 4. 메뉴목록 5. 종료\n",
      "-----------------------------------------------------\n",
      ">>> 3\n",
      "\n",
      "-----------------------------------------------------\n",
      "1. 커피자판기 2.메뉴추가 3. 메뉴삭제 4. 메뉴목록 5. 종료\n",
      "-----------------------------------------------------\n",
      ">>> 5\n"
     ]
    },
    {
     "name": "stdout",
     "output_type": "stream",
     "text": [
      "프로그램 종료\n"
     ]
    }
   ],
   "source": [
    "item = {}\n",
    "\n",
    "fileRoot = open('coffeeMachine.json' , 'r')\n",
    "RealcoffeeList = json.load(fileRoot)\n",
    "fileRoot.close()\n",
    "menu_display = '''\n",
    "-----------------------------------------------------\n",
    "1. 커피자판기 2.메뉴추가 3. 메뉴삭제 4. 메뉴목록 5. 종료\n",
    "-----------------------------------------------------\n",
    ">>>'''\n",
    "\n",
    "while True:\n",
    "    menu = input(menu_display)\n",
    "    if menu == '1':\n",
    "        pass\n",
    "    elif menu == '2':\n",
    "        addCoffee = input(\"어떤 커피 종류를 추가 하시겠습니까?? >>\")\n",
    "        RealcoffeeList.append(addCoffee)\n",
    "        print(f'입력하신 {addCoffee}가 성공적으로 추가 되었습니다! ')\n",
    "    elif menu == '3'     :\n",
    "        pass\n",
    "    elif menu == '4':\n",
    "        print(RealcoffeeList)\n",
    "    elif menu =='5':\n",
    "        fileRoot = open('coffeeMachine.json', 'w')\n",
    "        json.dump(RealcoffeeList,fileRoot)\n",
    "        fileRoot.close()\n",
    "        print(\"프로그램 종료\")\n",
    "        break\n",
    "    else:\n",
    "        print(\"원하시는 메뉴를 선택해주세요\")"
   ]
  },
  {
   "cell_type": "markdown",
   "id": "e3249098-ff94-441e-9db5-0ae833337d72",
   "metadata": {},
   "source": [
    "##### "
   ]
  },
  {
   "cell_type": "code",
   "execution_count": null,
   "id": "70f7f770-97ec-4268-bb61-aa48ae81b42b",
   "metadata": {},
   "outputs": [],
   "source": []
  },
  {
   "cell_type": "code",
   "execution_count": 7,
   "id": "174bcca0-07ce-4c01-af24-94bcc037ac36",
   "metadata": {
    "tags": []
   },
   "outputs": [
    {
     "name": "stdin",
     "output_type": "stream",
     "text": [
      "\n",
      "-----------------------------------------------------\n",
      "1. 커피자판기 2.메뉴추가 3. 메뉴삭제 4. 메뉴목록 5. 종료\n",
      "-----------------------------------------------------\n",
      ">>> 4\n",
      "1. 메뉴 이름순 2. 메뉴 가격순 >>>  1\n"
     ]
    },
    {
     "name": "stdout",
     "output_type": "stream",
     "text": [
      "아이스 아메리카노                 :      2,000 원\n",
      "카라멜 마끼야또                  :      2,100 원\n"
     ]
    },
    {
     "name": "stdin",
     "output_type": "stream",
     "text": [
      "\n",
      "-----------------------------------------------------\n",
      "1. 커피자판기 2.메뉴추가 3. 메뉴삭제 4. 메뉴목록 5. 종료\n",
      "-----------------------------------------------------\n",
      ">>> 4\n",
      "1. 메뉴 이름순 2. 메뉴 가격순 >>>  2\n"
     ]
    },
    {
     "name": "stdout",
     "output_type": "stream",
     "text": [
      "                아이스 아메리카노 :      2,000 원\n",
      "                 카라멜 마끼야또 :      2,100 원\n"
     ]
    },
    {
     "name": "stdin",
     "output_type": "stream",
     "text": [
      "\n",
      "-----------------------------------------------------\n",
      "1. 커피자판기 2.메뉴추가 3. 메뉴삭제 4. 메뉴목록 5. 종료\n",
      "-----------------------------------------------------\n",
      ">>> 4\n",
      "1. 메뉴 이름순 2. 메뉴 가격순 >>>  1\n"
     ]
    },
    {
     "name": "stdout",
     "output_type": "stream",
     "text": [
      "아이스 아메리카노                 :      2,000 원\n",
      "카라멜 마끼야또                  :      2,100 원\n"
     ]
    },
    {
     "name": "stdin",
     "output_type": "stream",
     "text": [
      "\n",
      "-----------------------------------------------------\n",
      "1. 커피자판기 2.메뉴추가 3. 메뉴삭제 4. 메뉴목록 5. 종료\n",
      "-----------------------------------------------------\n",
      ">>> 5\n"
     ]
    }
   ],
   "source": [
    "\n",
    "\n",
    "\n",
    "\n",
    "\n",
    "# 선생님 로직\n",
    "item = {'아이스 아메리카노' : 2000 , '카라멜 마끼야또' : 2100 }\n",
    "menu_display= '''\n",
    "-----------------------------------------------------\n",
    "1. 커피자판기 2.메뉴추가 3. 메뉴삭제 4. 메뉴목록 5. 종료\n",
    "-----------------------------------------------------\n",
    ">>>'''\n",
    "\n",
    "while True:\n",
    "    menu = input(menu_display)\n",
    "    if menu == '1':\n",
    "        pass\n",
    "    elif menu == '2':\n",
    "        menu_name = input('메뉴명 >>> ')\n",
    "        menu_price = ''\n",
    "        while not menu_price.isdigit():          # 숫자를 입력받지 않았다면, 무한반복.\n",
    "            menu_price = input('메뉴가격 >>> ')\n",
    "        menu_price = int(menu_price)\n",
    "        \n",
    "        if menu_name in item.keys():\n",
    "            print(f'{menu_name} 이라는 메뉴가 이미 존재합니다. 수정합니다')\n",
    "        else:\n",
    "            print(f'{menu_name} 메뉴를 추가 했습니다!.')\n",
    "        item[menu_name] = menu_price    \n",
    "        print(item)\n",
    "    elif menu == '3':\n",
    "        menu_name = input(\"삭제하려는 메뉴명을 입력하세요 >>>\")\n",
    "        if menu_name in item.keys():\n",
    "            print(f'{item.pop(menu_name)} 메뉴를 삭제하였습니다.')       # pop을 쓰면, return을 받은것을 보여줌과 동시에, 삭제가능!!굿굿\n",
    "            #del item[menu_name]\n",
    "        else:\n",
    "            print(f\"{menu_name} 메뉴가 없습니다.\")\n",
    "        print(item)    \n",
    "    elif menu == '4':\n",
    "         menu_1 = input('1. 메뉴 이름순 2. 메뉴 가격순 >>> ')\n",
    "         if menu_1 == '1':\n",
    "            for k,v in sorted(item.items(), key = lambda x : x[0]):\n",
    "                print(f'{k:<25} : {v:10,} 원')                                                       # {k:>10} 포매팅 문법 : 10자리 오른쪽 정렬\n",
    "         elif menu_1 == '2':\n",
    "            for k,v in sorted(item.items(), key = lambda x : x[1]):\n",
    "                 print(f'{k:>25} : {v:10,} 원')\n",
    "         else:\n",
    "            print(\"숫자를 잘못 입력하였습니다\")\n",
    "    elif menu =='5':\n",
    "         break\n",
    "    else:\n",
    "        print(\"원하시는 메뉴를 선택해주세요\")\n",
    "        \n",
    "        \n",
    "        \n",
    "        \n",
    "\n",
    "\n"
   ]
  },
  {
   "cell_type": "code",
   "execution_count": 76,
   "id": "25d7b9ab-3b7c-4c64-ad70-a7c43c214213",
   "metadata": {},
   "outputs": [
    {
     "data": {
      "text/plain": [
       "{}"
      ]
     },
     "execution_count": 76,
     "metadata": {},
     "output_type": "execute_result"
    }
   ],
   "source": [
    "item"
   ]
  },
  {
   "cell_type": "code",
   "execution_count": 15,
   "id": "77bc9829-b0f3-48cd-a8ca-5755285e1425",
   "metadata": {
    "tags": []
   },
   "outputs": [
    {
     "ename": "NameError",
     "evalue": "name 'json' is not defined",
     "output_type": "error",
     "traceback": [
      "\u001b[1;31m---------------------------------------------------------------------------\u001b[0m",
      "\u001b[1;31mNameError\u001b[0m                                 Traceback (most recent call last)",
      "Input \u001b[1;32mIn [15]\u001b[0m, in \u001b[0;36m<cell line: 5>\u001b[1;34m()\u001b[0m\n\u001b[0;32m      2\u001b[0m item \u001b[38;5;241m=\u001b[39m {\u001b[38;5;124m'\u001b[39m\u001b[38;5;124m아이스 아메리카노\u001b[39m\u001b[38;5;124m'\u001b[39m : \u001b[38;5;241m2000\u001b[39m , \u001b[38;5;124m'\u001b[39m\u001b[38;5;124m카라멜 마끼야또\u001b[39m\u001b[38;5;124m'\u001b[39m : \u001b[38;5;241m2100\u001b[39m }\n\u001b[0;32m      4\u001b[0m fileRoot \u001b[38;5;241m=\u001b[39m \u001b[38;5;28mopen\u001b[39m(\u001b[38;5;124m'\u001b[39m\u001b[38;5;124mcoffeeMachine.json\u001b[39m\u001b[38;5;124m'\u001b[39m , \u001b[38;5;124m'\u001b[39m\u001b[38;5;124mr\u001b[39m\u001b[38;5;124m'\u001b[39m)\n\u001b[1;32m----> 5\u001b[0m RealcoffeeList \u001b[38;5;241m=\u001b[39m \u001b[43mjson\u001b[49m\u001b[38;5;241m.\u001b[39mload(fileRoot)\n\u001b[0;32m      6\u001b[0m fileRoot\u001b[38;5;241m.\u001b[39mclose()\n\u001b[0;32m      7\u001b[0m menu_display \u001b[38;5;241m=\u001b[39m \u001b[38;5;124m'''\u001b[39m\n\u001b[0;32m      8\u001b[0m \u001b[38;5;124m-----------------------------------------------------\u001b[39m\n\u001b[0;32m      9\u001b[0m \u001b[38;5;124m1. 커피자판기 2.메뉴추가 3. 메뉴삭제 4. 메뉴목록 5. 종료\u001b[39m\n\u001b[0;32m     10\u001b[0m \u001b[38;5;124m-----------------------------------------------------\u001b[39m\n\u001b[0;32m     11\u001b[0m \u001b[38;5;124m>>>\u001b[39m\u001b[38;5;124m'''\u001b[39m\n",
      "\u001b[1;31mNameError\u001b[0m: name 'json' is not defined"
     ]
    }
   ],
   "source": [
    "# 선생님 로직\n",
    "item = {'아이스 아메리카노' : 2000 , '카라멜 마끼야또' : 2100 }\n",
    "\n",
    "fileRoot = open('coffeeMachine.json' , 'r')\n",
    "RealcoffeeList = json.load(fileRoot)\n",
    "fileRoot.close()\n",
    "menu_display = '''\n",
    "-----------------------------------------------------\n",
    "1. 커피자판기 2.메뉴추가 3. 메뉴삭제 4. 메뉴목록 5. 종료\n",
    "-----------------------------------------------------\n",
    ">>>'''\n",
    "\n",
    "while True:\n",
    "    menu = input(menu_display)\n",
    "    if menu == '1':\n",
    "        pass\n",
    "    elif menu == '2':\n",
    "        menu_name = input('메뉴명 >>> ')\n",
    "        menu_price = ''\n",
    "        while not menu_price.isdigit():          # 숫자를 입력받지 않았다면, 무한반복.\n",
    "            menu_price = input('메뉴가격 >>> ')\n",
    "        menu_price = int(menu_price)\n",
    "        \n",
    "        if menu_name in item.keys():\n",
    "            print(f'{menu_name} 이라는 메뉴가 이미 존재합니다. 수정합니다')\n",
    "        else:\n",
    "            print(f'{menu_name} 메뉴를 추가 했습니다!.')\n",
    "        item[menu_name] = menu_price    \n",
    "        print(item)\n",
    "    elif menu == '3':\n",
    "        menu_name = input(\"삭제하려는 메뉴명을 입력하세요 >>>\")\n",
    "        if menu_name in item.keys():\n",
    "            print(f'{item.pop(menu_name)} 메뉴를 삭제하였습니다.')       # pop을 쓰면, return을 받은것을 보여줌과 동시에, 삭제가능!!굿굿\n",
    "            del item[menu_name]\n",
    "        else:\n",
    "            print(f\"{menu_name} 메뉴가 없습니다.\")\n",
    "        print(item)    \n",
    "    elif menu == '4':\n",
    "         menu_1 = input('1. 메뉴 이름순 2. 메뉴 가격순 >>> ')\n",
    "         if menu_1 == '1':\n",
    "            for k,v in sorted(item.items(), key = lambda x : x[0]):\n",
    "                print(f'{k:<25} : {v:10,} 원')                                                       # {k:>10} 포매팅 문법 : 10자리 오른쪽 정렬\n",
    "         elif menu_1 == '2':\n",
    "            for k,v in sorted(item.items(), key = lambda x : x[1]):\n",
    "                 print(f'{k:>25} : {v:10,} 원')\n",
    "         else:\n",
    "            print(\"숫자를 잘못 입력하였습니다\")\n",
    "    elif menu =='5':\n",
    "        fileRoot = open('coffeeMachine.json', 'w')\n",
    "        json.dump(RealcoffeeList,fileRoot)\n",
    "        fileRoot.close()\n",
    "        print(\"프로그램 종료\")\n",
    "        break\n",
    "    else:\n",
    "        print(\"원하시는 메뉴를 선택해주세요\")\n",
    "        \n",
    "        \n",
    "        \n",
    "        "
   ]
  },
  {
   "cell_type": "code",
   "execution_count": null,
   "id": "58691513-710c-432f-a5bb-c4cc840ffced",
   "metadata": {
    "tags": []
   },
   "outputs": [],
   "source": []
  },
  {
   "cell_type": "code",
   "execution_count": null,
   "id": "bd315072-476f-4f11-9a08-d4d581d0bee8",
   "metadata": {
    "tags": []
   },
   "outputs": [],
   "source": [
    "\n",
    "\n",
    "def gt(): return 123"
   ]
  },
  {
   "cell_type": "code",
   "execution_count": 480,
   "id": "e8c98e1f-19f9-48ce-b99e-04098d016e94",
   "metadata": {},
   "outputs": [
    {
     "name": "stdout",
     "output_type": "stream",
     "text": [
      "123\n"
     ]
    }
   ],
   "source": [
    "st = gt()\n",
    "print(st)"
   ]
  },
  {
   "cell_type": "code",
   "execution_count": null,
   "id": "0c41c366-c32f-433f-a382-e9cb89a4601e",
   "metadata": {},
   "outputs": [
    {
     "name": "stdin",
     "output_type": "stream",
     "text": [
      "\n",
      "-----------------------------------------------------\n",
      "1. 커피자판기 2.메뉴추가 3. 메뉴삭제 4. 메뉴목록 5. 종료\n",
      "-----------------------------------------------------\n",
      ">>> 2\n",
      "메뉴명 >>>  \n",
      "메뉴가격 >>>  1\n"
     ]
    },
    {
     "name": "stdout",
     "output_type": "stream",
     "text": [
      " 메뉴를 추가 했습니다!.\n",
      "{'아이스 아메리카노': 2000, '카라멜 마끼야또': 2100, '': 1}\n"
     ]
    },
    {
     "name": "stdin",
     "output_type": "stream",
     "text": [
      "\n",
      "-----------------------------------------------------\n",
      "1. 커피자판기 2.메뉴추가 3. 메뉴삭제 4. 메뉴목록 5. 종료\n",
      "-----------------------------------------------------\n",
      ">>> 1\n"
     ]
    },
    {
     "name": "stdout",
     "output_type": "stream",
     "text": [
      "아이스 아메리카노:2,000원 카라멜 마끼야또:2,100원 :1원 \n"
     ]
    },
    {
     "name": "stdin",
     "output_type": "stream",
     "text": [
      "메뉴선택 (종료 : enter)>>>  아이스 아메리카노\n",
      "금액 투입 >>> 2000\n"
     ]
    },
    {
     "name": "stdout",
     "output_type": "stream",
     "text": [
      "아이스 아메리카노 서비스 합니다. 거스름돈은 0 입니다.\n"
     ]
    },
    {
     "name": "stdin",
     "output_type": "stream",
     "text": [
      "\n",
      "-----------------------------------------------------\n",
      "1. 커피자판기 2.메뉴추가 3. 메뉴삭제 4. 메뉴목록 5. 종료\n",
      "-----------------------------------------------------\n",
      ">>> 1\n"
     ]
    },
    {
     "name": "stdout",
     "output_type": "stream",
     "text": [
      "아이스 아메리카노:2,000원 카라멜 마끼야또:2,100원 :1원 \n"
     ]
    },
    {
     "name": "stdin",
     "output_type": "stream",
     "text": [
      "메뉴선택 (종료 : enter)>>>  아이스 아메리카노\n",
      "금액 투입 >>> 2001\n"
     ]
    },
    {
     "name": "stdout",
     "output_type": "stream",
     "text": [
      "아이스 아메리카노 서비스 합니다. 거스름돈은 1 입니다.\n"
     ]
    },
    {
     "name": "stdin",
     "output_type": "stream",
     "text": [
      "\n",
      "-----------------------------------------------------\n",
      "1. 커피자판기 2.메뉴추가 3. 메뉴삭제 4. 메뉴목록 5. 종료\n",
      "-----------------------------------------------------\n",
      ">>> 1\n"
     ]
    },
    {
     "name": "stdout",
     "output_type": "stream",
     "text": [
      "아이스 아메리카노:2,000원 카라멜 마끼야또:2,100원 :1원 \n"
     ]
    },
    {
     "name": "stdin",
     "output_type": "stream",
     "text": [
      "메뉴선택 (종료 : enter)>>>  아이스 아메리카노\n",
      "금액 투입 >>> 1900\n",
      "\n",
      "-----------------------------------------------------\n",
      "1. 커피자판기 2.메뉴추가 3. 메뉴삭제 4. 메뉴목록 5. 종료\n",
      "-----------------------------------------------------\n",
      ">>> 4\n",
      "1. 메뉴 이름순 2. 메뉴 가격순 >>>  1\n"
     ]
    },
    {
     "name": "stdout",
     "output_type": "stream",
     "text": [
      "                          :          1 원\n",
      "아이스 아메리카노                 :      2,000 원\n",
      "카라멜 마끼야또                  :      2,100 원\n"
     ]
    }
   ],
   "source": [
    "import json\n",
    "# 선생님 로직\n",
    "item = {'아이스 아메리카노' : 2000 , '카라멜 마끼야또' : 2100 }\n",
    "\n",
    "menu_display = '''\n",
    "-----------------------------------------------------\n",
    "1. 커피자판기 2.메뉴추가 3. 메뉴삭제 4. 메뉴목록 5. 종료\n",
    "-----------------------------------------------------\n",
    ">>>'''\n",
    "\n",
    "while True:\n",
    "    menu = input(menu_display)\n",
    "    if menu == '1':\n",
    "        choice = ''\n",
    "        while choice == '':\n",
    "            for k,v in item.items():\n",
    "                print(f'{k}:{v:,}원', end= ' ')                            #메뉴 갯수만큼 옆으로 쫙 print출력하고 싶을떄 'end'속성을 쓴다.\n",
    "            print()   # 메뉴명을 다 뽑아내면 한칸 띄워준다.\n",
    "            choice = input('메뉴선택 (종료 : enter)>>> ')\n",
    "            money = int(input('금액 투입 >>>'))                            # 앞에서 isdigit를 써봤으니, 여기서는 생략. (금액을 알맞게 넣었다고 가정한다)\n",
    "            if choice in item.keys():                                     # 선택한 메뉴가 item.keys에 있는가?\n",
    "                if money >= item[choice]:\n",
    "                    money -= item[choice]\n",
    "                    print(f'{choice} 서비스 합니다. 거스름돈은 {money} 입니다.')\n",
    "                else\n",
    "                    print(\"돈 더 내라!!\")\n",
    "            else:\n",
    "                print(\"해당 메뉴가 없습니다.\")\n",
    "                \n",
    "        \n",
    "    elif menu == '2':\n",
    "        menu_name = input('메뉴명 >>> ')\n",
    "        menu_price = ''\n",
    "        while not menu_price.isdigit():                                     # 숫자를 입력받지 않았다면, 무한반복.\n",
    "            menu_price = input('메뉴가격 >>> ')\n",
    "        menu_price = int(menu_price)\n",
    "        \n",
    "        if menu_name in item.keys():\n",
    "            print(f'{menu_name} 이라는 메뉴가 이미 존재합니다. 수정합니다')\n",
    "        else:\n",
    "            print(f'{menu_name} 메뉴를 추가 했습니다!.')\n",
    "        item[menu_name] = menu_price    \n",
    "        print(item)\n",
    "    elif menu == '3':\n",
    "        menu_name = input(\"삭제하려는 메뉴명을 입력하세요 >>>\")\n",
    "        if menu_name in item.keys():\n",
    "            print(f'{item.pop(menu_name)} 메뉴를 삭제하였습니다.')       # pop을 쓰면, return을 받은것을 보여줌과 동시에, 삭제가능!!굿굿\n",
    "            del item[menu_name]\n",
    "        else:\n",
    "            print(f\"{menu_name} 메뉴가 없습니다.\")\n",
    "        print(item)    \n",
    "    elif menu == '4':\n",
    "         menu_1 = input('1. 메뉴 이름순 2. 메뉴 가격순 >>> ')\n",
    "         if menu_1 == '1':\n",
    "            for k,v in sorted(item.items(), key = lambda x : x[0]):\n",
    "                print(f'{k:<25} : {v:10,} 원')                                                       # {k:>10} 포매팅 문법 : 10자리 오른쪽 정렬\n",
    "         elif menu_1 == '2':\n",
    "            for k,v in sorted(item.items(), key = lambda x : x[1]):\n",
    "                 print(f'{k:>25} : {v:10,} 원')\n",
    "         else:\n",
    "            print(\"숫자를 잘못 입력하였습니다\")\n",
    "    elif menu =='5':\n",
    "        print(\"프로그램 종료\")\n",
    "        break\n",
    "    else:\n",
    "        print(\"원하시는 메뉴를 선택해주세요\")\n",
    "        \n",
    "        \n",
    "        \n",
    "        \n"
   ]
  },
  {
   "cell_type": "code",
   "execution_count": null,
   "id": "12202d15-91ec-4a24-91fd-c8efeb2abe76",
   "metadata": {},
   "outputs": [],
   "source": [
    "\n"
   ]
  },
  {
   "cell_type": "code",
   "execution_count": null,
   "id": "5c160877-4de0-4657-bc33-5bdb182f4c08",
   "metadata": {},
   "outputs": [],
   "source": []
  }
 ],
 "metadata": {
  "kernelspec": {
   "display_name": "Python 3 (ipykernel)",
   "language": "python",
   "name": "python3"
  },
  "language_info": {
   "codemirror_mode": {
    "name": "ipython",
    "version": 3
   },
   "file_extension": ".py",
   "mimetype": "text/x-python",
   "name": "python",
   "nbconvert_exporter": "python",
   "pygments_lexer": "ipython3",
   "version": "3.9.12"
  }
 },
 "nbformat": 4,
 "nbformat_minor": 5
}
