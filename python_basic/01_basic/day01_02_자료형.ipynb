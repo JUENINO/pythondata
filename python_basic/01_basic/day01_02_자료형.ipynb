{
 "cells": [
  {
   "cell_type": "raw",
   "id": "17b43eaa-0723-40ad-9b9a-d180b95bc6fd",
   "metadata": {},
   "source": [
    "숫자형"
   ]
  },
  {
   "cell_type": "markdown",
   "id": "ddbd8f8b-6fc5-4017-94c7-c4e96bd911cb",
   "metadata": {},
   "source": [
    "숫자형"
   ]
  },
  {
   "cell_type": "code",
   "execution_count": 1,
   "id": "07310db6-ffa9-4e99-b3b1-d0bc1a14214b",
   "metadata": {},
   "outputs": [],
   "source": [
    "a = 123"
   ]
  },
  {
   "cell_type": "code",
   "execution_count": 2,
   "id": "1ec15d42-e344-4273-b7a6-dd3971462698",
   "metadata": {},
   "outputs": [
    {
     "name": "stdout",
     "output_type": "stream",
     "text": [
      "123\n"
     ]
    }
   ],
   "source": [
    "print(a)"
   ]
  },
  {
   "cell_type": "code",
   "execution_count": 3,
   "id": "f8353b93-b133-4008-8ab0-e247aff32c35",
   "metadata": {},
   "outputs": [
    {
     "data": {
      "text/plain": [
       "123"
      ]
     },
     "execution_count": 3,
     "metadata": {},
     "output_type": "execute_result"
    }
   ],
   "source": [
    "a"
   ]
  },
  {
   "cell_type": "code",
   "execution_count": 4,
   "id": "445fe869-3a4c-41f8-a55b-5463c26261bf",
   "metadata": {},
   "outputs": [
    {
     "ename": "NameError",
     "evalue": "name 'b' is not defined",
     "output_type": "error",
     "traceback": [
      "\u001b[1;31m---------------------------------------------------------------------------\u001b[0m",
      "\u001b[1;31mNameError\u001b[0m                                 Traceback (most recent call last)",
      "Input \u001b[1;32mIn [4]\u001b[0m, in \u001b[0;36m<cell line: 1>\u001b[1;34m()\u001b[0m\n\u001b[1;32m----> 1\u001b[0m \u001b[43mb\u001b[49m\n",
      "\u001b[1;31mNameError\u001b[0m: name 'b' is not defined"
     ]
    }
   ],
   "source": [
    "b"
   ]
  },
  {
   "cell_type": "code",
   "execution_count": 16,
   "id": "0dc96a49-322a-4a23-8dfd-53af58c25636",
   "metadata": {},
   "outputs": [
    {
     "name": "stdout",
     "output_type": "stream",
     "text": [
      "123\n"
     ]
    }
   ],
   "source": [
    "print(a)"
   ]
  },
  {
   "cell_type": "code",
   "execution_count": 6,
   "id": "1c315277-4502-4b86-82f8-3e146b4db348",
   "metadata": {},
   "outputs": [],
   "source": [
    "b = 456"
   ]
  },
  {
   "cell_type": "code",
   "execution_count": 13,
   "id": "21eb664f-150b-4299-8700-b19a13ef703c",
   "metadata": {},
   "outputs": [
    {
     "data": {
      "text/plain": [
       "456"
      ]
     },
     "execution_count": 13,
     "metadata": {},
     "output_type": "execute_result"
    }
   ],
   "source": [
    "b"
   ]
  },
  {
   "cell_type": "code",
   "execution_count": 15,
   "id": "5423eb43-e88a-4695-94ca-794588c1a1f9",
   "metadata": {},
   "outputs": [
    {
     "name": "stdout",
     "output_type": "stream",
     "text": [
      "123\n"
     ]
    },
    {
     "data": {
      "text/plain": [
       "456"
      ]
     },
     "execution_count": 15,
     "metadata": {},
     "output_type": "execute_result"
    }
   ],
   "source": [
    "print(a)\n",
    "b"
   ]
  },
  {
   "cell_type": "code",
   "execution_count": 14,
   "id": "67806e41-48a0-48b9-a4d7-c62a4c867b53",
   "metadata": {},
   "outputs": [
    {
     "name": "stdout",
     "output_type": "stream",
     "text": [
      "123\n",
      "456\n"
     ]
    }
   ],
   "source": [
    "print(a)\n",
    "print(b)"
   ]
  },
  {
   "cell_type": "code",
   "execution_count": 17,
   "id": "76cac75e-1479-4bc0-be6e-e63c753c2ef8",
   "metadata": {},
   "outputs": [
    {
     "data": {
      "text/plain": [
       "(123, 456)"
      ]
     },
     "execution_count": 17,
     "metadata": {},
     "output_type": "execute_result"
    }
   ],
   "source": [
    "a,b"
   ]
  },
  {
   "cell_type": "code",
   "execution_count": 18,
   "id": "1523220f-ecd0-4e24-92d9-1e956f75ea0f",
   "metadata": {},
   "outputs": [
    {
     "name": "stdout",
     "output_type": "stream",
     "text": [
      "123 456\n"
     ]
    }
   ],
   "source": [
    "print(a,b)"
   ]
  },
  {
   "cell_type": "code",
   "execution_count": 19,
   "id": "219df1fc-d633-495f-8d8d-a19a796833ef",
   "metadata": {},
   "outputs": [
    {
     "name": "stdout",
     "output_type": "stream",
     "text": [
      "(123, 456)\n"
     ]
    }
   ],
   "source": [
    "print((a,b))"
   ]
  },
  {
   "cell_type": "code",
   "execution_count": 20,
   "id": "c9fc9d6f-67e1-42eb-84f0-58231eda7894",
   "metadata": {},
   "outputs": [
    {
     "data": {
      "text/plain": [
       "int"
      ]
     },
     "execution_count": 20,
     "metadata": {},
     "output_type": "execute_result"
    }
   ],
   "source": [
    "type(a)"
   ]
  },
  {
   "cell_type": "code",
   "execution_count": 21,
   "id": "0eb21f72-99e1-4e76-a0df-a0a195a218f0",
   "metadata": {},
   "outputs": [],
   "source": [
    "a = 1.67"
   ]
  },
  {
   "cell_type": "code",
   "execution_count": 22,
   "id": "a71ff1ed-8e10-4c9b-9083-fee84a3223fb",
   "metadata": {},
   "outputs": [
    {
     "data": {
      "text/plain": [
       "float"
      ]
     },
     "execution_count": 22,
     "metadata": {},
     "output_type": "execute_result"
    }
   ],
   "source": [
    "type(a)"
   ]
  },
  {
   "cell_type": "code",
   "execution_count": 23,
   "id": "957bc6a1-5c84-45a8-9669-c71ca54000cd",
   "metadata": {},
   "outputs": [],
   "source": [
    "a = 123"
   ]
  },
  {
   "cell_type": "code",
   "execution_count": 24,
   "id": "71412490-9a2b-47ad-acf2-ff8cc79eacf6",
   "metadata": {},
   "outputs": [
    {
     "data": {
      "text/plain": [
       "int"
      ]
     },
     "execution_count": 24,
     "metadata": {},
     "output_type": "execute_result"
    }
   ],
   "source": [
    "type(a)"
   ]
  },
  {
   "cell_type": "code",
   "execution_count": 25,
   "id": "77ef5029-4996-4c36-b784-c73e5f45c32e",
   "metadata": {},
   "outputs": [],
   "source": [
    "c = 'c'"
   ]
  },
  {
   "cell_type": "code",
   "execution_count": 26,
   "id": "4c667db2-5e44-48bf-b27d-f19f1a7a5741",
   "metadata": {},
   "outputs": [
    {
     "data": {
      "text/plain": [
       "str"
      ]
     },
     "execution_count": 26,
     "metadata": {},
     "output_type": "execute_result"
    }
   ],
   "source": [
    "type(c)"
   ]
  },
  {
   "cell_type": "code",
   "execution_count": 27,
   "id": "df7eeb1c-e13f-4bcb-8a4e-d612873f8585",
   "metadata": {},
   "outputs": [],
   "source": [
    "c = 'ccc'"
   ]
  },
  {
   "cell_type": "code",
   "execution_count": 28,
   "id": "40e49f19-7a97-4132-aca0-3f52dae7ce46",
   "metadata": {},
   "outputs": [
    {
     "data": {
      "text/plain": [
       "str"
      ]
     },
     "execution_count": 28,
     "metadata": {},
     "output_type": "execute_result"
    }
   ],
   "source": [
    "type(c)"
   ]
  },
  {
   "cell_type": "code",
   "execution_count": 45,
   "id": "41b7de7d-810c-436a-84e4-ffcc0ddf1db6",
   "metadata": {},
   "outputs": [],
   "source": [
    "d = 1.43581734907120371208321312830182039128903312123123132132132132123231312"
   ]
  },
  {
   "cell_type": "code",
   "execution_count": 41,
   "id": "8b0a729f-8b13-470d-8fb9-d3d9b0895ea4",
   "metadata": {},
   "outputs": [
    {
     "data": {
      "text/plain": [
       "float"
      ]
     },
     "execution_count": 47,
     "metadata": {},
     "output_type": "execute_result"
    }
   ],
   "source": [
    "type(d)"
   ]
  },
  {
   "cell_type": "code",
   "execution_count": 46,
   "id": "a5e759c4-3e42-4090-bf5a-498228b8b2a6",
   "metadata": {},
   "outputs": [
    {
     "data": {
      "text/plain": [
       "1.4358173490712036"
      ]
     },
     "execution_count": 46,
     "metadata": {},
     "output_type": "execute_result"
    }
   ],
   "source": [
    "d"
   ]
  },
  {
   "cell_type": "code",
   "execution_count": 51,
   "id": "f6747016-30f4-44ae-a4dc-339031410b1c",
   "metadata": {},
   "outputs": [
    {
     "data": {
      "text/plain": [
       "1"
      ]
     },
     "execution_count": 51,
     "metadata": {},
     "output_type": "execute_result"
    }
   ],
   "source": [
    "7%3"
   ]
  },
  {
   "cell_type": "code",
   "execution_count": 56,
   "id": "2ab0e525-0a46-4914-a88b-a0bd6e86a44f",
   "metadata": {},
   "outputs": [],
   "source": [
    "a = 0o13"
   ]
  },
  {
   "cell_type": "code",
   "execution_count": 57,
   "id": "4f61e0d8-6ef1-493c-9cbb-e866a0b14576",
   "metadata": {},
   "outputs": [
    {
     "data": {
      "text/plain": [
       "11"
      ]
     },
     "execution_count": 57,
     "metadata": {},
     "output_type": "execute_result"
    }
   ],
   "source": [
    "a"
   ]
  },
  {
   "cell_type": "code",
   "execution_count": 58,
   "id": "2e329db3-be25-418b-81a4-056d0bacdb39",
   "metadata": {},
   "outputs": [
    {
     "data": {
      "text/plain": [
       "2"
      ]
     },
     "execution_count": 58,
     "metadata": {},
     "output_type": "execute_result"
    }
   ],
   "source": [
    "7 // 3"
   ]
  },
  {
   "cell_type": "code",
   "execution_count": 61,
   "id": "f81876c8-76b4-433c-81db-63a27a504735",
   "metadata": {},
   "outputs": [
    {
     "name": "stdout",
     "output_type": "stream",
     "text": [
      "\n"
     ]
    }
   ],
   "source": [
    "print()"
   ]
  },
  {
   "cell_type": "code",
   "execution_count": 60,
   "id": "f531e931-92ec-4208-a0c7-6df0d2ea6f28",
   "metadata": {
    "collapsed": true,
    "jupyter": {
     "outputs_hidden": true
    },
    "tags": []
   },
   "outputs": [
    {
     "data": {
      "text/plain": [
       "\u001b[1;31mDocstring:\u001b[0m\n",
       "print(value, ..., sep=' ', end='\\n', file=sys.stdout, flush=False)\n",
       "\n",
       "Prints the values to a stream, or to sys.stdout by default.\n",
       "Optional keyword arguments:\n",
       "file:  a file-like object (stream); defaults to the current sys.stdout.\n",
       "sep:   string inserted between values, default a space.\n",
       "end:   string appended after the last value, default a newline.\n",
       "flush: whether to forcibly flush the stream.\n",
       "\u001b[1;31mType:\u001b[0m      builtin_function_or_method\n"
      ]
     },
     "metadata": {},
     "output_type": "display_data"
    }
   ],
   "source": [
    "print?"
   ]
  },
  {
   "cell_type": "code",
   "execution_count": 62,
   "id": "7ae2da70-0851-414b-925d-24ce679c9978",
   "metadata": {
    "collapsed": true,
    "jupyter": {
     "outputs_hidden": true
    },
    "tags": []
   },
   "outputs": [
    {
     "name": "stdout",
     "output_type": "stream",
     "text": [
      "Help on built-in function print in module builtins:\n",
      "\n",
      "print(...)\n",
      "    print(value, ..., sep=' ', end='\\n', file=sys.stdout, flush=False)\n",
      "    \n",
      "    Prints the values to a stream, or to sys.stdout by default.\n",
      "    Optional keyword arguments:\n",
      "    file:  a file-like object (stream); defaults to the current sys.stdout.\n",
      "    sep:   string inserted between values, default a space.\n",
      "    end:   string appended after the last value, default a newline.\n",
      "    flush: whether to forcibly flush the stream.\n",
      "\n"
     ]
    }
   ],
   "source": [
    "help(print)"
   ]
  },
  {
   "cell_type": "code",
   "execution_count": 65,
   "id": "eb1c347f-b5d2-416a-8ec2-d473b2c13a51",
   "metadata": {
    "tags": []
   },
   "outputs": [
    {
     "name": "stdin",
     "output_type": "stream",
     "text": [
      "숫자를 입력하세요 >>> 444\n"
     ]
    }
   ],
   "source": [
    "num1 = input('숫자를 입력하세요 >>>')"
   ]
  },
  {
   "cell_type": "code",
   "execution_count": 64,
   "id": "17816f0e-a673-4c07-a2e0-b66725f59348",
   "metadata": {},
   "outputs": [
    {
     "name": "stdin",
     "output_type": "stream",
     "text": [
      "숫자를 입력하세요 >>> 안녕\n"
     ]
    },
    {
     "data": {
      "text/plain": [
       "'안녕'"
      ]
     },
     "execution_count": 64,
     "metadata": {},
     "output_type": "execute_result"
    }
   ],
   "source": [
    "input('숫자를 입력하세요 >>>')"
   ]
  },
  {
   "cell_type": "code",
   "execution_count": 66,
   "id": "a4b68299-1fc2-4a3f-9386-db73630e6eb3",
   "metadata": {},
   "outputs": [
    {
     "data": {
      "text/plain": [
       "'444'"
      ]
     },
     "execution_count": 66,
     "metadata": {},
     "output_type": "execute_result"
    }
   ],
   "source": [
    "num1"
   ]
  },
  {
   "cell_type": "code",
   "execution_count": 67,
   "id": "f33ef360-9536-4192-b51c-381471be28d5",
   "metadata": {},
   "outputs": [
    {
     "data": {
      "text/plain": [
       "str"
      ]
     },
     "execution_count": 67,
     "metadata": {},
     "output_type": "execute_result"
    }
   ],
   "source": [
    "type(num1)"
   ]
  },
  {
   "cell_type": "code",
   "execution_count": 71,
   "id": "e630a2c4-e532-40ea-b179-2a96705b442d",
   "metadata": {},
   "outputs": [
    {
     "name": "stdout",
     "output_type": "stream",
     "text": [
      "444\n"
     ]
    }
   ],
   "source": [
    "print(num1)"
   ]
  },
  {
   "cell_type": "code",
   "execution_count": 79,
   "id": "bd057849-b6c4-4000-95d1-4c8d572f6cd1",
   "metadata": {},
   "outputs": [],
   "source": [
    "# 파이썬 교육중\n",
    "# 박스당 들어가는 과일의 갯수와 전체 과일의 갯수\n"
   ]
  },
  {
   "cell_type": "code",
   "execution_count": 81,
   "id": "f845cdd1-82c4-4856-b016-1ac02c8af6b8",
   "metadata": {},
   "outputs": [],
   "source": [
    "box = 5\n",
    "fruit = 30"
   ]
  },
  {
   "cell_type": "code",
   "execution_count": 101,
   "id": "6e27f51e-432d-47cd-b54c-8234cf15bfc0",
   "metadata": {},
   "outputs": [
    {
     "data": {
      "text/plain": [
       "6.0"
      ]
     },
     "execution_count": 101,
     "metadata": {},
     "output_type": "execute_result"
    }
   ],
   "source": [
    "30 / 5"
   ]
  },
  {
   "cell_type": "code",
   "execution_count": 91,
   "id": "9861f42e-ffad-40ea-968f-3d694c86e9e0",
   "metadata": {},
   "outputs": [
    {
     "name": "stdout",
     "output_type": "stream",
     "text": [
      "6.0 5\n"
     ]
    }
   ],
   "source": [
    "print( fruit/box, box)"
   ]
  },
  {
   "cell_type": "code",
   "execution_count": 100,
   "id": "9e3c646e-d85c-41d5-80db-c9c67b212c64",
   "metadata": {},
   "outputs": [
    {
     "name": "stdin",
     "output_type": "stream",
     "text": [
      "전체 과일의 갯수>>> 200\n",
      "박스당 과일의 갯수>>> 7\n"
     ]
    },
    {
     "name": "stdout",
     "output_type": "stream",
     "text": [
      "28 박스,  4 개\n"
     ]
    }
   ],
   "source": [
    "total = int(input('전체 과일의 갯수>>>'))\n",
    "box_count = int(input('박스당 과일의 갯수>>>'))\n",
    "box = total // box_count\n",
    "count = total % box_count\n",
    "print(box,'박스, ' , count, '개')"
   ]
  },
  {
   "cell_type": "markdown",
   "id": "9e68aea7-6c9e-4ce9-a3c6-34cbb77e0edd",
   "metadata": {},
   "source": [
    "## 문자열 자료형"
   ]
  },
  {
   "cell_type": "code",
   "execution_count": 106,
   "id": "5b58f996-9f9d-4d72-9c0f-e445a3b49668",
   "metadata": {},
   "outputs": [],
   "source": [
    "hi = \"hello 'ann'\""
   ]
  },
  {
   "cell_type": "code",
   "execution_count": 104,
   "id": "31d0da32-3da3-4ff6-ad3d-fd5eb5d37bc5",
   "metadata": {},
   "outputs": [
    {
     "data": {
      "text/plain": [
       "\"hello 'ann'\""
      ]
     },
     "execution_count": 104,
     "metadata": {},
     "output_type": "execute_result"
    }
   ],
   "source": [
    "hi"
   ]
  },
  {
   "cell_type": "code",
   "execution_count": 107,
   "id": "0a42530e-637e-478b-bdc2-739ab8d17b6b",
   "metadata": {},
   "outputs": [
    {
     "data": {
      "text/plain": [
       "'\\n이것은 주석입니다.\\n'"
      ]
     },
     "execution_count": 107,
     "metadata": {},
     "output_type": "execute_result"
    }
   ],
   "source": [
    "\"\"\"\n",
    "이것은 주석입니다.\n",
    "\"\"\""
   ]
  },
  {
   "cell_type": "code",
   "execution_count": 110,
   "id": "e6d268ee-06b8-4ed0-ba5f-569ef663c43a",
   "metadata": {},
   "outputs": [],
   "source": [
    "hi2 = '''hello\n",
    "world'''"
   ]
  },
  {
   "cell_type": "code",
   "execution_count": 111,
   "id": "aa004950-0f00-4d97-9647-e687db9f56c9",
   "metadata": {},
   "outputs": [
    {
     "data": {
      "text/plain": [
       "'hello\\nworld'"
      ]
     },
     "execution_count": 111,
     "metadata": {},
     "output_type": "execute_result"
    }
   ],
   "source": [
    "hi2"
   ]
  },
  {
   "cell_type": "code",
   "execution_count": 112,
   "id": "f78e70e4-1e5d-4133-953d-e71efc062e26",
   "metadata": {},
   "outputs": [
    {
     "data": {
      "text/plain": [
       "'1a'"
      ]
     },
     "execution_count": 112,
     "metadata": {},
     "output_type": "execute_result"
    }
   ],
   "source": [
    "'1' + 'a'"
   ]
  },
  {
   "cell_type": "code",
   "execution_count": 113,
   "id": "1b178705-e4f8-434c-9f43-bb813b9870b0",
   "metadata": {},
   "outputs": [
    {
     "ename": "TypeError",
     "evalue": "unsupported operand type(s) for +: 'int' and 'str'",
     "output_type": "error",
     "traceback": [
      "\u001b[1;31m---------------------------------------------------------------------------\u001b[0m",
      "\u001b[1;31mTypeError\u001b[0m                                 Traceback (most recent call last)",
      "Input \u001b[1;32mIn [113]\u001b[0m, in \u001b[0;36m<cell line: 1>\u001b[1;34m()\u001b[0m\n\u001b[1;32m----> 1\u001b[0m \u001b[38;5;241;43m1\u001b[39;49m\u001b[43m \u001b[49m\u001b[38;5;241;43m+\u001b[39;49m\u001b[43m \u001b[49m\u001b[38;5;124;43m'\u001b[39;49m\u001b[38;5;124;43ma\u001b[39;49m\u001b[38;5;124;43m'\u001b[39;49m\n",
      "\u001b[1;31mTypeError\u001b[0m: unsupported operand type(s) for +: 'int' and 'str'"
     ]
    }
   ],
   "source": [
    "1 + 'a'"
   ]
  },
  {
   "cell_type": "code",
   "execution_count": 114,
   "id": "8ae38e66-3263-4b59-bff3-8ee125d1d65a",
   "metadata": {},
   "outputs": [
    {
     "ename": "TypeError",
     "evalue": "can only concatenate str (not \"int\") to str",
     "output_type": "error",
     "traceback": [
      "\u001b[1;31m---------------------------------------------------------------------------\u001b[0m",
      "\u001b[1;31mTypeError\u001b[0m                                 Traceback (most recent call last)",
      "Input \u001b[1;32mIn [114]\u001b[0m, in \u001b[0;36m<cell line: 1>\u001b[1;34m()\u001b[0m\n\u001b[1;32m----> 1\u001b[0m \u001b[38;5;124;43m'\u001b[39;49m\u001b[38;5;124;43m1\u001b[39;49m\u001b[38;5;124;43m'\u001b[39;49m\u001b[43m \u001b[49m\u001b[38;5;241;43m+\u001b[39;49m\u001b[43m \u001b[49m\u001b[38;5;241;43m1\u001b[39;49m\n",
      "\u001b[1;31mTypeError\u001b[0m: can only concatenate str (not \"int\") to str"
     ]
    }
   ],
   "source": [
    "'1' + 1"
   ]
  },
  {
   "cell_type": "code",
   "execution_count": 119,
   "id": "d1dba76a-9e7d-4213-8762-f47a6376d647",
   "metadata": {},
   "outputs": [
    {
     "data": {
      "text/plain": [
       "'1111'"
      ]
     },
     "execution_count": 119,
     "metadata": {},
     "output_type": "execute_result"
    }
   ],
   "source": [
    "'1' * 4"
   ]
  },
  {
   "cell_type": "code",
   "execution_count": 120,
   "id": "9443123b-d352-4ac7-aaa6-484618c885be",
   "metadata": {},
   "outputs": [
    {
     "ename": "TypeError",
     "evalue": "object of type 'int' has no len()",
     "output_type": "error",
     "traceback": [
      "\u001b[1;31m---------------------------------------------------------------------------\u001b[0m",
      "\u001b[1;31mTypeError\u001b[0m                                 Traceback (most recent call last)",
      "Input \u001b[1;32mIn [120]\u001b[0m, in \u001b[0;36m<cell line: 1>\u001b[1;34m()\u001b[0m\n\u001b[1;32m----> 1\u001b[0m \u001b[38;5;28;43mlen\u001b[39;49m\u001b[43m(\u001b[49m\u001b[38;5;241;43m12312312\u001b[39;49m\u001b[43m)\u001b[49m\n",
      "\u001b[1;31mTypeError\u001b[0m: object of type 'int' has no len()"
     ]
    }
   ],
   "source": [
    "len(12312312)"
   ]
  },
  {
   "cell_type": "code",
   "execution_count": 123,
   "id": "29c9b335-0c06-46cb-b4fb-db5d56522edf",
   "metadata": {},
   "outputs": [
    {
     "data": {
      "text/plain": [
       "5"
      ]
     },
     "execution_count": 123,
     "metadata": {},
     "output_type": "execute_result"
    }
   ],
   "source": [
    "len('stsrs')"
   ]
  },
  {
   "cell_type": "code",
   "execution_count": 124,
   "id": "21d6e017-7475-4135-a2ae-2b323db48c92",
   "metadata": {},
   "outputs": [],
   "source": [
    "num1 = 11\n",
    "str1 = '11'"
   ]
  },
  {
   "cell_type": "code",
   "execution_count": 125,
   "id": "fe7c33eb-61da-4a87-8132-5b6036765780",
   "metadata": {},
   "outputs": [
    {
     "data": {
      "text/plain": [
       "'11'"
      ]
     },
     "execution_count": 125,
     "metadata": {},
     "output_type": "execute_result"
    }
   ],
   "source": [
    "str1"
   ]
  },
  {
   "cell_type": "code",
   "execution_count": 126,
   "id": "acdbb6d9-26c9-4417-ab6c-e14cc7b993bf",
   "metadata": {},
   "outputs": [
    {
     "data": {
      "text/plain": [
       "22"
      ]
     },
     "execution_count": 126,
     "metadata": {},
     "output_type": "execute_result"
    }
   ],
   "source": [
    "int(str1) + num1"
   ]
  },
  {
   "cell_type": "code",
   "execution_count": 127,
   "id": "e02ee220-16b5-4bba-ab78-0d810583dfed",
   "metadata": {},
   "outputs": [
    {
     "data": {
      "text/plain": [
       "22"
      ]
     },
     "execution_count": 127,
     "metadata": {},
     "output_type": "execute_result"
    }
   ],
   "source": [
    "int('11') + 11"
   ]
  },
  {
   "cell_type": "code",
   "execution_count": 133,
   "id": "ee3006f4-c1b7-4279-a7b3-a947600812be",
   "metadata": {},
   "outputs": [
    {
     "data": {
      "text/plain": [
       "7"
      ]
     },
     "execution_count": 133,
     "metadata": {},
     "output_type": "execute_result"
    }
   ],
   "source": [
    "len('sdbihfq')"
   ]
  },
  {
   "cell_type": "code",
   "execution_count": 134,
   "id": "ea14bb9d-968f-4953-a88d-77b37d638285",
   "metadata": {},
   "outputs": [
    {
     "data": {
      "text/plain": [
       "17"
      ]
     },
     "execution_count": 134,
     "metadata": {},
     "output_type": "execute_result"
    }
   ],
   "source": [
    "a = 'life is too short'\n",
    "len(a)"
   ]
  },
  {
   "cell_type": "code",
   "execution_count": 135,
   "id": "60878a83-657e-4640-8d60-f16be1215e8c",
   "metadata": {},
   "outputs": [
    {
     "ename": "AttributeError",
     "evalue": "'str' object has no attribute 'length'",
     "output_type": "error",
     "traceback": [
      "\u001b[1;31m---------------------------------------------------------------------------\u001b[0m",
      "\u001b[1;31mAttributeError\u001b[0m                            Traceback (most recent call last)",
      "Input \u001b[1;32mIn [135]\u001b[0m, in \u001b[0;36m<cell line: 1>\u001b[1;34m()\u001b[0m\n\u001b[1;32m----> 1\u001b[0m \u001b[43ma\u001b[49m\u001b[38;5;241;43m.\u001b[39;49m\u001b[43mlength\u001b[49m()\n",
      "\u001b[1;31mAttributeError\u001b[0m: 'str' object has no attribute 'length'"
     ]
    }
   ],
   "source": [
    "a.length()"
   ]
  },
  {
   "cell_type": "code",
   "execution_count": 136,
   "id": "e90e16d0-09c7-4c05-affa-ef723a26be89",
   "metadata": {},
   "outputs": [
    {
     "ename": "NameError",
     "evalue": "name 'size' is not defined",
     "output_type": "error",
     "traceback": [
      "\u001b[1;31m---------------------------------------------------------------------------\u001b[0m",
      "\u001b[1;31mNameError\u001b[0m                                 Traceback (most recent call last)",
      "Input \u001b[1;32mIn [136]\u001b[0m, in \u001b[0;36m<cell line: 1>\u001b[1;34m()\u001b[0m\n\u001b[1;32m----> 1\u001b[0m \u001b[43msize\u001b[49m(a)\n",
      "\u001b[1;31mNameError\u001b[0m: name 'size' is not defined"
     ]
    }
   ],
   "source": [
    "size(a)"
   ]
  },
  {
   "cell_type": "code",
   "execution_count": 137,
   "id": "b82786d6-eb28-49d2-903c-1fffe4412392",
   "metadata": {},
   "outputs": [],
   "source": [
    "a = \"Life is too short, You need Python\""
   ]
  },
  {
   "cell_type": "code",
   "execution_count": 138,
   "id": "7b2c8bbf-acf1-4b96-ae9b-5106890e3d21",
   "metadata": {},
   "outputs": [
    {
     "data": {
      "text/plain": [
       "'L'"
      ]
     },
     "execution_count": 138,
     "metadata": {},
     "output_type": "execute_result"
    }
   ],
   "source": [
    "a[0]"
   ]
  },
  {
   "cell_type": "code",
   "execution_count": 139,
   "id": "7bc01d5b-dafb-4ae0-ba60-e1be7b90de04",
   "metadata": {},
   "outputs": [
    {
     "data": {
      "text/plain": [
       "'n'"
      ]
     },
     "execution_count": 139,
     "metadata": {},
     "output_type": "execute_result"
    }
   ],
   "source": [
    "a[-1]"
   ]
  },
  {
   "cell_type": "code",
   "execution_count": 140,
   "id": "b2ab3099-361e-4273-badf-f52130f65e2e",
   "metadata": {},
   "outputs": [
    {
     "data": {
      "text/plain": [
       "'i'"
      ]
     },
     "execution_count": 140,
     "metadata": {},
     "output_type": "execute_result"
    }
   ],
   "source": [
    "a[1]"
   ]
  },
  {
   "cell_type": "code",
   "execution_count": 141,
   "id": "6f49beda-9a2a-448a-869c-0a51bdf70f45",
   "metadata": {},
   "outputs": [
    {
     "ename": "IndexError",
     "evalue": "string index out of range",
     "output_type": "error",
     "traceback": [
      "\u001b[1;31m---------------------------------------------------------------------------\u001b[0m",
      "\u001b[1;31mIndexError\u001b[0m                                Traceback (most recent call last)",
      "Input \u001b[1;32mIn [141]\u001b[0m, in \u001b[0;36m<cell line: 1>\u001b[1;34m()\u001b[0m\n\u001b[1;32m----> 1\u001b[0m \u001b[43ma\u001b[49m\u001b[43m[\u001b[49m\u001b[38;5;241;43m100\u001b[39;49m\u001b[43m]\u001b[49m\n",
      "\u001b[1;31mIndexError\u001b[0m: string index out of range"
     ]
    }
   ],
   "source": [
    "a[100]"
   ]
  },
  {
   "cell_type": "code",
   "execution_count": 142,
   "id": "62fe69b1-c04a-4ae5-a680-496808a76491",
   "metadata": {},
   "outputs": [
    {
     "data": {
      "text/plain": [
       "'s'"
      ]
     },
     "execution_count": 142,
     "metadata": {},
     "output_type": "execute_result"
    }
   ],
   "source": [
    "a[12]"
   ]
  },
  {
   "cell_type": "code",
   "execution_count": 143,
   "id": "f5988fc9-5ac1-478f-90ed-65547173916d",
   "metadata": {},
   "outputs": [
    {
     "data": {
      "text/plain": [
       "' '"
      ]
     },
     "execution_count": 143,
     "metadata": {},
     "output_type": "execute_result"
    }
   ],
   "source": [
    "a[11]"
   ]
  },
  {
   "cell_type": "code",
   "execution_count": 145,
   "id": "08cecfa9-f262-451c-8fb0-3dc0d16f1978",
   "metadata": {},
   "outputs": [
    {
     "data": {
      "text/plain": [
       "'Life'"
      ]
     },
     "execution_count": 145,
     "metadata": {},
     "output_type": "execute_result"
    }
   ],
   "source": [
    "a[0:4]"
   ]
  },
  {
   "cell_type": "code",
   "execution_count": 146,
   "id": "d0337d2b-93c0-4ebf-a9bc-39fe24e727d6",
   "metadata": {},
   "outputs": [
    {
     "data": {
      "text/plain": [
       "'if'"
      ]
     },
     "execution_count": 146,
     "metadata": {},
     "output_type": "execute_result"
    }
   ],
   "source": [
    "a[1:3]"
   ]
  },
  {
   "cell_type": "code",
   "execution_count": 159,
   "id": "2828c020-7994-4a27-8a30-32c0ecdf8df8",
   "metadata": {},
   "outputs": [
    {
     "data": {
      "text/plain": [
       "'Lf s'"
      ]
     },
     "execution_count": 159,
     "metadata": {},
     "output_type": "execute_result"
    }
   ],
   "source": [
    "a[0:7:2]"
   ]
  },
  {
   "cell_type": "code",
   "execution_count": 160,
   "id": "137186e9-9160-4ecf-9781-5546e7f5af88",
   "metadata": {},
   "outputs": [
    {
     "data": {
      "text/plain": [
       "'Life'"
      ]
     },
     "execution_count": 160,
     "metadata": {},
     "output_type": "execute_result"
    }
   ],
   "source": [
    "a[:4]"
   ]
  },
  {
   "cell_type": "code",
   "execution_count": 161,
   "id": "06273a9a-6e7b-45a5-afa1-41b67b2f785f",
   "metadata": {},
   "outputs": [
    {
     "data": {
      "text/plain": [
       "'Python'"
      ]
     },
     "execution_count": 161,
     "metadata": {},
     "output_type": "execute_result"
    }
   ],
   "source": [
    "a[-6:]"
   ]
  },
  {
   "cell_type": "code",
   "execution_count": 162,
   "id": "d4fd9180-a7bd-4917-8eea-73cbe5473078",
   "metadata": {},
   "outputs": [
    {
     "ename": "NameError",
     "evalue": "name 'A' is not defined",
     "output_type": "error",
     "traceback": [
      "\u001b[1;31m---------------------------------------------------------------------------\u001b[0m",
      "\u001b[1;31mNameError\u001b[0m                                 Traceback (most recent call last)",
      "Input \u001b[1;32mIn [162]\u001b[0m, in \u001b[0;36m<cell line: 1>\u001b[1;34m()\u001b[0m\n\u001b[1;32m----> 1\u001b[0m \u001b[43mA\u001b[49m[\u001b[38;5;241m0\u001b[39m]\n",
      "\u001b[1;31mNameError\u001b[0m: name 'A' is not defined"
     ]
    }
   ],
   "source": [
    "A[0]"
   ]
  },
  {
   "cell_type": "code",
   "execution_count": 163,
   "id": "f7bcf238-c22f-4478-9c06-0c1f783c7173",
   "metadata": {},
   "outputs": [
    {
     "data": {
      "text/plain": [
       "''"
      ]
     },
     "execution_count": 163,
     "metadata": {},
     "output_type": "execute_result"
    }
   ],
   "source": [
    "a[-1:6]"
   ]
  },
  {
   "cell_type": "code",
   "execution_count": 169,
   "id": "103206ed-4d8a-410f-998d-d0255702fe38",
   "metadata": {},
   "outputs": [
    {
     "data": {
      "text/plain": [
       "''"
      ]
     },
     "execution_count": 169,
     "metadata": {},
     "output_type": "execute_result"
    }
   ],
   "source": []
  },
  {
   "cell_type": "code",
   "execution_count": 172,
   "id": "a96408bf-8f6b-4208-ae5b-07cf863e2a70",
   "metadata": {},
   "outputs": [],
   "source": [
    "# 주민등록 번호를 입력받아서 생년월일과 성별을 출력하세요\n",
    "# '201111-3123123'\n",
    "# 3항 연산자를 이용\n",
    "# (조건) ? a: b"
   ]
  },
  {
   "cell_type": "code",
   "execution_count": 182,
   "id": "ff013b9d-3293-4cb9-811a-e4f6b72a548a",
   "metadata": {},
   "outputs": [
    {
     "name": "stdin",
     "output_type": "stream",
     "text": [
      "주민등록번호를 입력하세요 >>> 960826-11111111\n"
     ]
    },
    {
     "name": "stdout",
     "output_type": "stream",
     "text": [
      "생년월일 :  960826  성별 :  남자\n"
     ]
    }
   ],
   "source": [
    "juminNum = input('주민등록번호를 입력하세요 >>>')\n",
    "gender = \"여자\" if juminNum == 3  else \"남자\"\n",
    "print(\"생년월일 : \", juminNum[0:6] , \" 성별 : \" ,gender)\n"
   ]
  },
  {
   "cell_type": "code",
   "execution_count": 2,
   "id": "014b5872-375a-4812-b113-ed1bd0445ff8",
   "metadata": {},
   "outputs": [
    {
     "data": {
      "text/plain": [
       "'i eat 3 apples.'"
      ]
     },
     "execution_count": 2,
     "metadata": {},
     "output_type": "execute_result"
    }
   ],
   "source": [
    "\"i eat %d apples.\" % 3"
   ]
  },
  {
   "cell_type": "code",
   "execution_count": 4,
   "id": "0151f228-d1c9-42a1-bee2-891179818577",
   "metadata": {},
   "outputs": [
    {
     "data": {
      "text/plain": [
       "'i eat 3 apples.end'"
      ]
     },
     "execution_count": 4,
     "metadata": {},
     "output_type": "execute_result"
    }
   ],
   "source": [
    "\"i eat %d apples.%s\"%(3,\"end\")"
   ]
  },
  {
   "cell_type": "code",
   "execution_count": 5,
   "id": "1b551b4a-e5df-4353-9e45-812f1030ae83",
   "metadata": {},
   "outputs": [
    {
     "data": {
      "text/plain": [
       "'i eat 20 apples.'"
      ]
     },
     "execution_count": 6,
     "metadata": {},
     "output_type": "execute_result"
    }
   ],
   "source": [
    "\"i eat %o apples.\" % 12"
   ]
  },
  {
   "cell_type": "code",
   "execution_count": 10,
   "id": "c39b426d-0f6e-4164-8581-71173a532d64",
   "metadata": {},
   "outputs": [
    {
     "ename": "SyntaxError",
     "evalue": "invalid syntax (1071588000.py, line 1)",
     "output_type": "error",
     "traceback": [
      "\u001b[1;36m  Input \u001b[1;32mIn [10]\u001b[1;36m\u001b[0m\n\u001b[1;33m    i eat {} apples. {}'.format(3,'count')\u001b[0m\n\u001b[1;37m      ^\u001b[0m\n\u001b[1;31mSyntaxError\u001b[0m\u001b[1;31m:\u001b[0m invalid syntax\n"
     ]
    }
   ],
   "source": [
    "i eat {} apples. {}'.format(3,'count')"
   ]
  },
  {
   "cell_type": "code",
   "execution_count": 11,
   "id": "3580747c-5f3a-48f9-81b8-91c414641dce",
   "metadata": {},
   "outputs": [
    {
     "data": {
      "text/plain": [
       "2"
      ]
     },
     "execution_count": 11,
     "metadata": {},
     "output_type": "execute_result"
    }
   ],
   "source": [
    "a = \"hobby\"\n",
    "a.count('b')"
   ]
  },
  {
   "cell_type": "code",
   "execution_count": 14,
   "id": "3d85c90b-6a66-4998-a003-ff1b060fc76f",
   "metadata": {},
   "outputs": [
    {
     "data": {
      "text/plain": [
       "0"
      ]
     },
     "execution_count": 14,
     "metadata": {},
     "output_type": "execute_result"
    }
   ],
   "source": [
    "a.count(\"i\")"
   ]
  },
  {
   "cell_type": "code",
   "execution_count": 16,
   "id": "27ed48d6-e469-40aa-8191-05788bc69915",
   "metadata": {},
   "outputs": [
    {
     "data": {
      "text/plain": [
       "14"
      ]
     },
     "execution_count": 16,
     "metadata": {},
     "output_type": "execute_result"
    }
   ],
   "source": [
    "a = \"Python is the best choice\"\n",
    "a.find('b') #인덱스 리턴"
   ]
  },
  {
   "cell_type": "code",
   "execution_count": 17,
   "id": "86f4e268-fa73-44af-885e-0e242a98fc5c",
   "metadata": {},
   "outputs": [
    {
     "data": {
      "text/plain": [
       "-1"
      ]
     },
     "execution_count": 17,
     "metadata": {},
     "output_type": "execute_result"
    }
   ],
   "source": [
    "a.find('k') #글자가 없을경우 -1 리턴"
   ]
  },
  {
   "cell_type": "code",
   "execution_count": 18,
   "id": "1750a202-eeeb-4908-95ce-895b4e683b17",
   "metadata": {},
   "outputs": [
    {
     "data": {
      "text/plain": [
       "14"
      ]
     },
     "execution_count": 18,
     "metadata": {},
     "output_type": "execute_result"
    }
   ],
   "source": [
    "a.index('b')"
   ]
  },
  {
   "cell_type": "code",
   "execution_count": 19,
   "id": "25543a1f-70ab-407e-a0bc-24e888dc2f36",
   "metadata": {},
   "outputs": [
    {
     "ename": "ValueError",
     "evalue": "substring not found",
     "output_type": "error",
     "traceback": [
      "\u001b[1;31m---------------------------------------------------------------------------\u001b[0m",
      "\u001b[1;31mValueError\u001b[0m                                Traceback (most recent call last)",
      "Input \u001b[1;32mIn [19]\u001b[0m, in \u001b[0;36m<cell line: 1>\u001b[1;34m()\u001b[0m\n\u001b[1;32m----> 1\u001b[0m \u001b[43ma\u001b[49m\u001b[38;5;241;43m.\u001b[39;49m\u001b[43mindex\u001b[49m\u001b[43m(\u001b[49m\u001b[38;5;124;43m'\u001b[39;49m\u001b[38;5;124;43mk\u001b[39;49m\u001b[38;5;124;43m'\u001b[39;49m\u001b[43m)\u001b[49m\n",
      "\u001b[1;31mValueError\u001b[0m: substring not found"
     ]
    }
   ],
   "source": [
    "a.index('k') # find와 index의 차이는 index는 해당 문자가없다면 오류가 뜬다."
   ]
  },
  {
   "cell_type": "code",
   "execution_count": 21,
   "id": "de82ad75-d767-48ca-80a3-4b0df1c39b0b",
   "metadata": {},
   "outputs": [
    {
     "data": {
      "text/plain": [
       "'a,b,c,d,z'"
      ]
     },
     "execution_count": 21,
     "metadata": {},
     "output_type": "execute_result"
    }
   ],
   "source": [
    "','.join('abcdz')    # 해석 : abcdz를 개별로 보세요. 그리고 ,로 구분하세요."
   ]
  },
  {
   "cell_type": "code",
   "execution_count": 22,
   "id": "f2e091af-9cc3-4483-a2e7-ca4ccd4cc1ec",
   "metadata": {},
   "outputs": [
    {
     "data": {
      "text/plain": [
       "'abc,edf,78'"
      ]
     },
     "execution_count": 22,
     "metadata": {},
     "output_type": "execute_result"
    }
   ],
   "source": [
    "','.join(['abc', 'edf', '78'])"
   ]
  },
  {
   "cell_type": "code",
   "execution_count": 23,
   "id": "3663bb01-2940-4065-9f30-50868307137d",
   "metadata": {},
   "outputs": [
    {
     "data": {
      "text/plain": [
       "'PYTHON IS THE BEST CHOICE'"
      ]
     },
     "execution_count": 23,
     "metadata": {},
     "output_type": "execute_result"
    }
   ],
   "source": [
    "a.upper()"
   ]
  },
  {
   "cell_type": "code",
   "execution_count": 27,
   "id": "974c2f8a-4024-4937-a773-6e109e5c0317",
   "metadata": {},
   "outputs": [
    {
     "data": {
      "text/plain": [
       "'python is the best choice'"
      ]
     },
     "execution_count": 27,
     "metadata": {},
     "output_type": "execute_result"
    }
   ],
   "source": [
    "a.lower()"
   ]
  },
  {
   "cell_type": "code",
   "execution_count": 33,
   "id": "f9b2df72-7e27-4003-8a6f-8adbfee69aa8",
   "metadata": {},
   "outputs": [
    {
     "name": "stdout",
     "output_type": "stream",
     "text": [
      "hi  \n",
      "  hi\n"
     ]
    }
   ],
   "source": [
    "# 공백지우기 함수 \n",
    "a = \"  hi  \"\n",
    "print(a.lstrip())\n",
    "print(a.rstrip())"
   ]
  },
  {
   "cell_type": "code",
   "execution_count": 38,
   "id": "f39c175f-9e58-4a3e-93eb-e0c85367a87a",
   "metadata": {},
   "outputs": [
    {
     "name": "stdout",
     "output_type": "stream",
     "text": [
      "['Life', 'is', 'too', 'short']\n",
      "['Life is too short']\n",
      "['Life,is,too,short']\n",
      "['Life is too short']\n"
     ]
    }
   ],
   "source": [
    "a = \"Life is too short\"\n",
    "print(a.split())\n",
    "print(a.split(sep=','))\n",
    "b = \"Life,is,too,short\"\n",
    "print(b.split())\n",
    "print(a.split(sep=','))\n",
    "# split의 기본 구분자는 공백이다."
   ]
  },
  {
   "cell_type": "code",
   "execution_count": 79,
   "id": "441a1d59-1d27-44a6-b276-b9899e96f23a",
   "metadata": {},
   "outputs": [
    {
     "name": "stdout",
     "output_type": "stream",
     "text": [
      "taxi\n",
      "bad\n"
     ]
    }
   ],
   "source": [
    "money = True\n",
    "if money: \n",
    "     print('taxi')\n",
    "     print('bad')\n",
    "else:\n",
    "   print('good')"
   ]
  },
  {
   "cell_type": "code",
   "execution_count": 69,
   "id": "6b664d2b-f02f-4e6d-b392-d64bb4260346",
   "metadata": {},
   "outputs": [],
   "source": [
    "# IndentationError~~~~~ Indent~~ 오류는 줄이 안맞을떄 나오는 오류다."
   ]
  },
  {
   "cell_type": "code",
   "execution_count": 80,
   "id": "dcb69a80-4e2d-4407-9792-21557adbc43f",
   "metadata": {},
   "outputs": [],
   "source": [
    "\n",
    "# x in s 연산자.\n"
   ]
  },
  {
   "cell_type": "code",
   "execution_count": 81,
   "id": "e86919b5-bde8-4346-bc93-f405d9387112",
   "metadata": {},
   "outputs": [],
   "source": [
    "# 다양한 조건을 판단하는 elif"
   ]
  },
  {
   "cell_type": "code",
   "execution_count": 98,
   "id": "0453b9a9-0383-41e2-bde2-11d662384706",
   "metadata": {},
   "outputs": [],
   "source": [
    "# pass 쓰기 / 문법확인 (한줄로 쓰는것이 가능하다.)\n",
    "if 'money' in ['card', 'money'] : pass\n",
    "else: print('카드를 꺼내주세요')"
   ]
  },
  {
   "cell_type": "code",
   "execution_count": 105,
   "id": "b1dc5ef6-b4df-4cb5-9281-888b5c2cd597",
   "metadata": {},
   "outputs": [
    {
     "name": "stdout",
     "output_type": "stream",
     "text": [
      "11\n",
      "22\n",
      "33\n"
     ]
    }
   ],
   "source": [
    "test_list = [ 11, 22, '33']\n",
    "for i in test_list:\n",
    "     print(i)"
   ]
  },
  {
   "cell_type": "code",
   "execution_count": null,
   "id": "28ca0b73-d166-49bf-ab6e-5203f73bf84b",
   "metadata": {},
   "outputs": [],
   "source": [
    "## 구구단 출력하기\n",
    "# -2단-\n",
    "# 2*1 = 2\n",
    "#...\n"
   ]
  },
  {
   "cell_type": "code",
   "execution_count": 110,
   "id": "c4a77887-dd93-45a7-861a-e6d3c876b6f8",
   "metadata": {
    "collapsed": true,
    "jupyter": {
     "outputs_hidden": true
    },
    "tags": []
   },
   "outputs": [
    {
     "name": "stdout",
     "output_type": "stream",
     "text": [
      "2  *   1   =  2\n",
      "2  *   2   =  4\n",
      "2  *   3   =  6\n",
      "2  *   4   =  8\n",
      "2  *   5   =  10\n",
      "2  *   6   =  12\n",
      "2  *   7   =  14\n",
      "2  *   8   =  16\n",
      "2  *   9   =  18\n",
      "3  *   1   =  3\n",
      "3  *   2   =  6\n",
      "3  *   3   =  9\n",
      "3  *   4   =  12\n",
      "3  *   5   =  15\n",
      "3  *   6   =  18\n",
      "3  *   7   =  21\n",
      "3  *   8   =  24\n",
      "3  *   9   =  27\n",
      "4  *   1   =  4\n",
      "4  *   2   =  8\n",
      "4  *   3   =  12\n",
      "4  *   4   =  16\n",
      "4  *   5   =  20\n",
      "4  *   6   =  24\n",
      "4  *   7   =  28\n",
      "4  *   8   =  32\n",
      "4  *   9   =  36\n",
      "5  *   1   =  5\n",
      "5  *   2   =  10\n",
      "5  *   3   =  15\n",
      "5  *   4   =  20\n",
      "5  *   5   =  25\n",
      "5  *   6   =  30\n",
      "5  *   7   =  35\n",
      "5  *   8   =  40\n",
      "5  *   9   =  45\n",
      "6  *   1   =  6\n",
      "6  *   2   =  12\n",
      "6  *   3   =  18\n",
      "6  *   4   =  24\n",
      "6  *   5   =  30\n",
      "6  *   6   =  36\n",
      "6  *   7   =  42\n",
      "6  *   8   =  48\n",
      "6  *   9   =  54\n",
      "7  *   1   =  7\n",
      "7  *   2   =  14\n",
      "7  *   3   =  21\n",
      "7  *   4   =  28\n",
      "7  *   5   =  35\n",
      "7  *   6   =  42\n",
      "7  *   7   =  49\n",
      "7  *   8   =  56\n",
      "7  *   9   =  63\n",
      "8  *   1   =  8\n",
      "8  *   2   =  16\n",
      "8  *   3   =  24\n",
      "8  *   4   =  32\n",
      "8  *   5   =  40\n",
      "8  *   6   =  48\n",
      "8  *   7   =  56\n",
      "8  *   8   =  64\n",
      "8  *   9   =  72\n",
      "9  *   1   =  9\n",
      "9  *   2   =  18\n",
      "9  *   3   =  27\n",
      "9  *   4   =  36\n",
      "9  *   5   =  45\n",
      "9  *   6   =  54\n",
      "9  *   7   =  63\n",
      "9  *   8   =  72\n",
      "9  *   9   =  81\n"
     ]
    }
   ],
   "source": [
    "for i in [2,3,4,5,6,7,8,9]:\n",
    "    for j in [1,2,3,4,5,6,7,8,9]:\n",
    "        print( i , \" *  \" , j , \"  = \" , i * j)  "
   ]
  },
  {
   "cell_type": "code",
   "execution_count": 120,
   "id": "9a0ad0e0-d357-4db2-996d-a46ee855de4c",
   "metadata": {
    "collapsed": true,
    "jupyter": {
     "outputs_hidden": true
    },
    "tags": []
   },
   "outputs": [
    {
     "name": "stdout",
     "output_type": "stream",
     "text": [
      " ---2단---\n",
      "2 * 1 =  2\n",
      "2 * 2 =  4\n",
      "2 * 3 =  6\n",
      "2 * 4 =  8\n",
      "2 * 5 = 10\n",
      "2 * 6 = 12\n",
      "2 * 7 = 14\n",
      "2 * 8 = 16\n",
      "2 * 9 = 18\n",
      "\n",
      " ---3단---\n",
      "3 * 1 =  3\n",
      "3 * 2 =  6\n",
      "3 * 3 =  9\n",
      "3 * 4 = 12\n",
      "3 * 5 = 15\n",
      "3 * 6 = 18\n",
      "3 * 7 = 21\n",
      "3 * 8 = 24\n",
      "3 * 9 = 27\n",
      "\n",
      " ---4단---\n",
      "4 * 1 =  4\n",
      "4 * 2 =  8\n",
      "4 * 3 = 12\n",
      "4 * 4 = 16\n",
      "4 * 5 = 20\n",
      "4 * 6 = 24\n",
      "4 * 7 = 28\n",
      "4 * 8 = 32\n",
      "4 * 9 = 36\n",
      "\n",
      " ---5단---\n",
      "5 * 1 =  5\n",
      "5 * 2 = 10\n",
      "5 * 3 = 15\n",
      "5 * 4 = 20\n",
      "5 * 5 = 25\n",
      "5 * 6 = 30\n",
      "5 * 7 = 35\n",
      "5 * 8 = 40\n",
      "5 * 9 = 45\n",
      "\n",
      " ---6단---\n",
      "6 * 1 =  6\n",
      "6 * 2 = 12\n",
      "6 * 3 = 18\n",
      "6 * 4 = 24\n",
      "6 * 5 = 30\n",
      "6 * 6 = 36\n",
      "6 * 7 = 42\n",
      "6 * 8 = 48\n",
      "6 * 9 = 54\n",
      "\n",
      " ---7단---\n",
      "7 * 1 =  7\n",
      "7 * 2 = 14\n",
      "7 * 3 = 21\n",
      "7 * 4 = 28\n",
      "7 * 5 = 35\n",
      "7 * 6 = 42\n",
      "7 * 7 = 49\n",
      "7 * 8 = 56\n",
      "7 * 9 = 63\n",
      "\n",
      " ---8단---\n",
      "8 * 1 =  8\n",
      "8 * 2 = 16\n",
      "8 * 3 = 24\n",
      "8 * 4 = 32\n",
      "8 * 5 = 40\n",
      "8 * 6 = 48\n",
      "8 * 7 = 56\n",
      "8 * 8 = 64\n",
      "8 * 9 = 72\n",
      "\n",
      " ---9단---\n",
      "9 * 1 =  9\n",
      "9 * 2 = 18\n",
      "9 * 3 = 27\n",
      "9 * 4 = 36\n",
      "9 * 5 = 45\n",
      "9 * 6 = 54\n",
      "9 * 7 = 63\n",
      "9 * 8 = 72\n",
      "9 * 9 = 81\n",
      "\n"
     ]
    }
   ],
   "source": [
    "# 구구단 선생님 풀이\n",
    "for i in range(2,10):  # 2~9 까지\n",
    "    print(f' ---{i}단---')\n",
    "    for j in range(1,10):  # 1~9까지\n",
    "        print(f'{i} * {j} = {i*j:2}')\n",
    "    print()"
   ]
  },
  {
   "cell_type": "code",
   "execution_count": 132,
   "id": "4ab9344e-e1df-4da3-a716-b8218963eee0",
   "metadata": {},
   "outputs": [
    {
     "name": "stdout",
     "output_type": "stream",
     "text": [
      "2 * 1 =  2   3 * 1 =  3   4 * 1 =  4   5 * 1 =  5   6 * 1 =  6   7 * 1 =  7   8 * 1 =  8   9 * 1 =  9   \n",
      "2 * 2 =  4   3 * 2 =  6   4 * 2 =  8   5 * 2 = 10   6 * 2 = 12   7 * 2 = 14   8 * 2 = 16   9 * 2 = 18   \n",
      "2 * 3 =  6   3 * 3 =  9   4 * 3 = 12   5 * 3 = 15   6 * 3 = 18   7 * 3 = 21   8 * 3 = 24   9 * 3 = 27   \n",
      "2 * 4 =  8   3 * 4 = 12   4 * 4 = 16   5 * 4 = 20   6 * 4 = 24   7 * 4 = 28   8 * 4 = 32   9 * 4 = 36   \n",
      "2 * 5 = 10   3 * 5 = 15   4 * 5 = 20   5 * 5 = 25   6 * 5 = 30   7 * 5 = 35   8 * 5 = 40   9 * 5 = 45   \n",
      "2 * 6 = 12   3 * 6 = 18   4 * 6 = 24   5 * 6 = 30   6 * 6 = 36   7 * 6 = 42   8 * 6 = 48   9 * 6 = 54   \n",
      "2 * 7 = 14   3 * 7 = 21   4 * 7 = 28   5 * 7 = 35   6 * 7 = 42   7 * 7 = 49   8 * 7 = 56   9 * 7 = 63   \n",
      "2 * 8 = 16   3 * 8 = 24   4 * 8 = 32   5 * 8 = 40   6 * 8 = 48   7 * 8 = 56   8 * 8 = 64   9 * 8 = 72   \n",
      "2 * 9 = 18   3 * 9 = 27   4 * 9 = 36   5 * 9 = 45   6 * 9 = 54   7 * 9 = 63   8 * 9 = 72   9 * 9 = 81   \n"
     ]
    }
   ],
   "source": [
    "# 2x1 3x1 4x1 ... 형태로 구구단 짜기\n",
    "for i in range(1,10):\n",
    "    for j in range(2,10):\n",
    "        print(f'{j} * {i} = {j*i:2}', end='   ')\n",
    "    print()"
   ]
  },
  {
   "cell_type": "code",
   "execution_count": 6,
   "id": "8fc66b81-9da7-4646-b357-3b2c64ff0508",
   "metadata": {},
   "outputs": [
    {
     "name": "stdout",
     "output_type": "stream",
     "text": [
      "3 + 5 = 8\n"
     ]
    }
   ],
   "source": [
    "print(\"3 + 5 =\", 3+5)"
   ]
  },
  {
   "cell_type": "code",
   "execution_count": 7,
   "id": "a5db6053-d37d-4ce0-80da-4fb623403eb1",
   "metadata": {},
   "outputs": [
    {
     "name": "stdout",
     "output_type": "stream",
     "text": [
      "3+5 1\n"
     ]
    }
   ],
   "source": [
    "print(\"3+5\",1)"
   ]
  },
  {
   "cell_type": "code",
   "execution_count": null,
   "id": "83d8f876-7c7e-4abf-a10b-72846d77f9cd",
   "metadata": {},
   "outputs": [],
   "source": []
  }
 ],
 "metadata": {
  "kernelspec": {
   "display_name": "Python 3 (ipykernel)",
   "language": "python",
   "name": "python3"
  },
  "language_info": {
   "codemirror_mode": {
    "name": "ipython",
    "version": 3
   },
   "file_extension": ".py",
   "mimetype": "text/x-python",
   "name": "python",
   "nbconvert_exporter": "python",
   "pygments_lexer": "ipython3",
   "version": "3.9.12"
  }
 },
 "nbformat": 4,
 "nbformat_minor": 5
}
