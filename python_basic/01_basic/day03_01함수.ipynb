{
 "cells": [
  {
   "cell_type": "code",
   "execution_count": 8,
   "id": "4f5349fc-a5a1-4573-885a-1e96bca0a48f",
   "metadata": {},
   "outputs": [
    {
     "name": "stdout",
     "output_type": "stream",
     "text": [
      "true반환\n"
     ]
    }
   ],
   "source": [
    "# 리스트   a[2] = 'b' 와\n",
    "# 딕셔너리 a[2] = 'b' 비교 해보기.\n",
    "\n",
    "# boolean 형   \n",
    "\n",
    "\n",
    "if 1:\n",
    "    print(\"true반환\")\n",
    "else:\n",
    "    print(\"false반환\")\n"
   ]
  },
  {
   "cell_type": "code",
   "execution_count": 10,
   "id": "981000ea-3156-4cdf-b81c-92ffed0a6fea",
   "metadata": {},
   "outputs": [
    {
     "name": "stdout",
     "output_type": "stream",
     "text": [
      "4\n",
      "3\n",
      "2\n",
      "1\n"
     ]
    }
   ],
   "source": [
    "# 참/ 거짓 이용하기\n",
    "\n",
    "a = [1,2,3,4]\n",
    "while a:\n",
    "    print(a.pop())"
   ]
  },
  {
   "cell_type": "code",
   "execution_count": 14,
   "id": "feaac0d7-a1d8-4489-8587-1872fb1f67f7",
   "metadata": {},
   "outputs": [
    {
     "name": "stdout",
     "output_type": "stream",
     "text": [
      "test function\n",
      "main test\n"
     ]
    }
   ],
   "source": [
    "def test1():\n",
    "    print(\"test function\")\n",
    "    \n",
    "def main():\n",
    "    test1()\n",
    "    print(\"main test\")\n",
    "    \n",
    "main()"
   ]
  },
  {
   "cell_type": "code",
   "execution_count": 26,
   "id": "8c16a38d-c46a-4536-b227-8ecc97c9072a",
   "metadata": {},
   "outputs": [
    {
     "data": {
      "text/plain": [
       "(4, 8)"
      ]
     },
     "execution_count": 26,
     "metadata": {},
     "output_type": "execute_result"
    }
   ],
   "source": [
    "def add(a,b):\n",
    "    return a+3, b+5\n",
    "\n",
    "\n",
    "\n",
    "sum = add(1,3)\n",
    "sum\n",
    "\n",
    "# 소괄호로 묶였다는건 튜플이라는 의미이다!\n"
   ]
  },
  {
   "cell_type": "code",
   "execution_count": 27,
   "id": "244125a3-ef94-4bcc-a357-ca708573e377",
   "metadata": {},
   "outputs": [
    {
     "data": {
      "text/plain": [
       "3"
      ]
     },
     "execution_count": 27,
     "metadata": {},
     "output_type": "execute_result"
    }
   ],
   "source": [
    "#튜플 \n",
    "\n",
    "a = 1,2,3,4,5\n",
    "\n",
    "a[2]"
   ]
  },
  {
   "cell_type": "code",
   "execution_count": 31,
   "id": "997a7652-09f8-4768-9b00-e32dd330b15e",
   "metadata": {},
   "outputs": [
    {
     "data": {
      "text/plain": [
       "50"
      ]
     },
     "execution_count": 31,
     "metadata": {},
     "output_type": "execute_result"
    }
   ],
   "source": [
    "# 매개변수 지정하여 호출하기.....\n",
    "# 자바에는 없는 기능.\n",
    "def add(a,b):\n",
    "    return a+b\n",
    "\n",
    "testValue1 = 100\n",
    "testValue2 = 50\n",
    "\n",
    "result = add(a=testValue1, b=testValue2-testValue1)\n",
    "result\n"
   ]
  },
  {
   "cell_type": "code",
   "execution_count": 44,
   "id": "90e09849-25ac-4637-93af-07fed8f93706",
   "metadata": {},
   "outputs": [
    {
     "data": {
      "text/plain": [
       "int"
      ]
     },
     "execution_count": 44,
     "metadata": {},
     "output_type": "execute_result"
    }
   ],
   "source": [
    " def add_many(*args): \n",
    "    result = 0 \n",
    "    for i in args: \n",
    "        result = result + i \n",
    "    return result \n",
    "\n",
    "# ★튜플로 던져주니깐, 함수 add_many에서는 튜플을 이용한 함수들을 써서 로직을 잘 짜야한다.\n",
    "# return값이 튜플이라는게 아님.\n",
    "\n",
    "add_many(1)"
   ]
  },
  {
   "cell_type": "code",
   "execution_count": 42,
   "id": "215078e7-983f-4837-82ee-75f70a44677f",
   "metadata": {},
   "outputs": [
    {
     "name": "stdout",
     "output_type": "stream",
     "text": [
      "[1, 2, 3]\n"
     ]
    }
   ],
   "source": [
    "a = [1,2,3]\n",
    "\n",
    "def test2(b):\n",
    "    print(b)\n",
    "    \n",
    "test2(a)    "
   ]
  },
  {
   "cell_type": "code",
   "execution_count": 82,
   "id": "40f03d83-e44e-43fc-87ec-e3cb28dea9be",
   "metadata": {
    "collapsed": true,
    "jupyter": {
     "outputs_hidden": true
    },
    "tags": []
   },
   "outputs": [
    {
     "ename": "IndentationError",
     "evalue": "expected an indented block (2232905670.py, line 4)",
     "output_type": "error",
     "traceback": [
      "\u001b[1;36m  Input \u001b[1;32mIn [82]\u001b[1;36m\u001b[0m\n\u001b[1;33m    ...     if choice == \"add\":\u001b[0m\n\u001b[1;37m    ^\u001b[0m\n\u001b[1;31mIndentationError\u001b[0m\u001b[1;31m:\u001b[0m expected an indented block\n"
     ]
    }
   ],
   "source": [
    "\n",
    "#★★★★★  choice가 ~~면 ~를 실행....       아래처럼 매개변수 2가지 유형으로 받기.\n",
    "\n",
    "def add_mul(*args,  choice= 'add' ): \n",
    "...     if choice == \"add\": \n",
    "...         result = 0 \n",
    "...         for i in args: \n",
    "...             result = result + i \n",
    "...     elif choice == \"mul\": \n",
    "...         result = 1 \n",
    "...         for i in args: \n",
    "...             result = result * i \n",
    "...     return result\n",
    "\n"
   ]
  },
  {
   "cell_type": "code",
   "execution_count": 85,
   "id": "2a34816e-7751-40cb-871a-f695fdf4f208",
   "metadata": {},
   "outputs": [
    {
     "ename": "UnboundLocalError",
     "evalue": "local variable 'result' referenced before assignment",
     "output_type": "error",
     "traceback": [
      "\u001b[1;31m---------------------------------------------------------------------------\u001b[0m",
      "\u001b[1;31mUnboundLocalError\u001b[0m                         Traceback (most recent call last)",
      "Input \u001b[1;32mIn [85]\u001b[0m, in \u001b[0;36m<cell line: 1>\u001b[1;34m()\u001b[0m\n\u001b[1;32m----> 1\u001b[0m \u001b[43madd_mul\u001b[49m\u001b[43m(\u001b[49m\u001b[38;5;241;43m1\u001b[39;49m\u001b[43m,\u001b[49m\u001b[38;5;241;43m2\u001b[39;49m\u001b[43m,\u001b[49m\u001b[38;5;241;43m3\u001b[39;49m\u001b[43m,\u001b[49m\u001b[38;5;241;43m4\u001b[39;49m\u001b[43m,\u001b[49m\u001b[38;5;241;43m5\u001b[39;49m\u001b[43m,\u001b[49m\u001b[38;5;241;43m6\u001b[39;49m\u001b[43m,\u001b[49m\u001b[38;5;241;43m7\u001b[39;49m\u001b[43m,\u001b[49m\u001b[38;5;241;43m8\u001b[39;49m\u001b[43m,\u001b[49m\u001b[38;5;241;43m9\u001b[39;49m\u001b[43m,\u001b[49m\u001b[38;5;241;43m10\u001b[39;49m\u001b[43m,\u001b[49m\u001b[38;5;241;43m11\u001b[39;49m\u001b[43m,\u001b[49m\u001b[43m \u001b[49m\u001b[38;5;124;43m'\u001b[39;49m\u001b[38;5;124;43madd\u001b[39;49m\u001b[38;5;124;43m'\u001b[39;49m\u001b[43m)\u001b[49m\n",
      "Input \u001b[1;32mIn [56]\u001b[0m, in \u001b[0;36madd_mul\u001b[1;34m(choice, *args)\u001b[0m\n\u001b[0;32m      8\u001b[0m     \u001b[38;5;28;01mfor\u001b[39;00m i \u001b[38;5;129;01min\u001b[39;00m args: \n\u001b[0;32m      9\u001b[0m         result \u001b[38;5;241m=\u001b[39m result \u001b[38;5;241m*\u001b[39m i \n\u001b[1;32m---> 10\u001b[0m \u001b[38;5;28;01mreturn\u001b[39;00m \u001b[43mresult\u001b[49m\n",
      "\u001b[1;31mUnboundLocalError\u001b[0m: local variable 'result' referenced before assignment"
     ]
    }
   ],
   "source": [
    "add_mul(1,2,3,4,5,6,7,8,9,10,11, 'add')"
   ]
  },
  {
   "cell_type": "code",
   "execution_count": null,
   "id": "f0d29d60-b6af-4785-a648-36a181fcd7c1",
   "metadata": {},
   "outputs": [],
   "source": [
    "\n",
    "\n",
    "\n",
    "\n",
    "\n",
    "\n",
    "# 최종 : 매개변수 오는 순서가 중요하다 --> 아니면 오류가 뜸\n",
    "########################################\n",
    "# 일반 매개변수 < 디폴트값을 선언한 매개변수 < * 와일드카드를 쓴 매개변수 , ** 매개변수\n",
    "\n",
    "\n",
    "\n",
    "\n",
    "\n",
    "\n",
    "\n"
   ]
  },
  {
   "cell_type": "code",
   "execution_count": 88,
   "id": "80a341a9-6a20-450d-a43e-2a86a579f84e",
   "metadata": {},
   "outputs": [
    {
     "name": "stdout",
     "output_type": "stream",
     "text": [
      "[1, 2, 'cc', 4, 5]\n",
      "{1: 'a', 2: 'cc'}\n"
     ]
    }
   ],
   "source": [
    "a = [1,2,3,4,5]\n",
    "b = {1 : 'a'}\n",
    "\n",
    "a[2] = 'cc'\n",
    "b[2] = 'cc'\n",
    "\n",
    "print(a)\n",
    "print(b)"
   ]
  },
  {
   "cell_type": "code",
   "execution_count": 2,
   "id": "93e2bf99-7349-4227-93f8-0b8c33962ecf",
   "metadata": {},
   "outputs": [],
   "source": [
    "\n",
    "\n",
    "\n",
    "# 13:46 정규표현식\n",
    "\n",
    "\n",
    "\n"
   ]
  },
  {
   "cell_type": "code",
   "execution_count": 5,
   "id": "ac686e8f-83b5-4fd9-b6a7-7abec83c0f91",
   "metadata": {},
   "outputs": [],
   "source": [
    "import re\n"
   ]
  },
  {
   "cell_type": "code",
   "execution_count": 10,
   "id": "93ba5ef1-fc1b-40b0-92a9-b907a6c91731",
   "metadata": {},
   "outputs": [
    {
     "name": "stdout",
     "output_type": "stream",
     "text": [
      "None\n"
     ]
    }
   ],
   "source": [
    "p = re.compile('[a-z]+')\n",
    "m = p.match(\"Python1python\")\n",
    "print(m)"
   ]
  },
  {
   "cell_type": "code",
   "execution_count": 11,
   "id": "0a7fae67-a079-4aaa-a50f-f58379797914",
   "metadata": {},
   "outputs": [
    {
     "name": "stdout",
     "output_type": "stream",
     "text": [
      "<re.Match object; span=(1, 6), match='ython'>\n"
     ]
    }
   ],
   "source": [
    "p = re.compile('[a-z]+')\n",
    "m = p.search(\"Python1python\")\n",
    "print(m)"
   ]
  },
  {
   "cell_type": "code",
   "execution_count": 13,
   "id": "74d5ffa8-616c-4e46-9b54-5231e77d23f2",
   "metadata": {},
   "outputs": [
    {
     "name": "stdin",
     "output_type": "stream",
     "text": [
      "이메일>>> seintjin11@naver.com\n"
     ]
    },
    {
     "data": {
      "text/plain": [
       "<re.Match object; span=(0, 20), match='seintjin11@naver.com'>"
      ]
     },
     "execution_count": 13,
     "metadata": {},
     "output_type": "execute_result"
    }
   ],
   "source": [
    "p = re.compile('[a-z][a-z0-9]{4,}@[a-z]{2,}[.](kr|com|org|net)$')\n",
    "email = input(\"이메일>>>\")\n",
    "result = p.match(email)t\n",
    "\n",
    "\n",
    "result"
   ]
  },
  {
   "cell_type": "code",
   "execution_count": 52,
   "id": "fca9f2d1-620d-4a18-8494-c329885920f7",
   "metadata": {},
   "outputs": [
    {
     "name": "stdout",
     "output_type": "stream",
     "text": [
      "<re.Match object; span=(0, 18), match='seintjin@naver.com'>\n"
     ]
    }
   ],
   "source": [
    "p = re.compile('[a-z][a-z0-9]{4,}@[a-z]{2,}[.](com)$')\n",
    "result = p.match(\"seintjin@naver.com\")\n",
    "\n",
    "print(result)"
   ]
  },
  {
   "cell_type": "code",
   "execution_count": 70,
   "id": "0b929084-101a-4c4f-88ec-02a5e320156b",
   "metadata": {},
   "outputs": [
    {
     "name": "stdin",
     "output_type": "stream",
     "text": [
      "성별을 입력하세요 >> f\n"
     ]
    },
    {
     "name": "stdout",
     "output_type": "stream",
     "text": [
      "성공\n",
      "F\n",
      "<re.Match object; span=(0, 1), match='f'>\n"
     ]
    }
   ],
   "source": [
    "p = re.compile(\"[m,M,f,F]$\")\n",
    "gender = input(\"성별을 입력하세요 >>\")\n",
    "result = p.match(gender) \n",
    "if result:\n",
    "    print(\"성공\")\n",
    "    gender = gender.upper()\n",
    "    print(gender)\n",
    "    print(result)\n",
    "else:\n",
    "    print(\"실패\")"
   ]
  },
  {
   "cell_type": "code",
   "execution_count": 104,
   "id": "f9cae5ee-6a1a-4c0e-8692-3f80b820e8e2",
   "metadata": {},
   "outputs": [
    {
     "name": "stdout",
     "output_type": "stream",
     "text": [
      "<re.Match object; span=(0, 11), match='seseasdasw@'>\n"
     ]
    }
   ],
   "source": [
    "p = re.compile(\"[a-z]{1,}[@]\")\n",
    "\n",
    "result = p.match(\"seseasdasw@naver.com\")\n",
    "print(result)"
   ]
  },
  {
   "cell_type": "code",
   "execution_count": null,
   "id": "348e804e-8101-45d8-ad91-11f298719c49",
   "metadata": {},
   "outputs": [],
   "source": []
  },
  {
   "cell_type": "code",
   "execution_count": null,
   "id": "f1f128d1-e85c-45bd-a0e4-4845d6f1774e",
   "metadata": {},
   "outputs": [],
   "source": []
  }
 ],
 "metadata": {
  "kernelspec": {
   "display_name": "Python 3 (ipykernel)",
   "language": "python",
   "name": "python3"
  },
  "language_info": {
   "codemirror_mode": {
    "name": "ipython",
    "version": 3
   },
   "file_extension": ".py",
   "mimetype": "text/x-python",
   "name": "python",
   "nbconvert_exporter": "python",
   "pygments_lexer": "ipython3",
   "version": "3.9.12"
  }
 },
 "nbformat": 4,
 "nbformat_minor": 5
}
